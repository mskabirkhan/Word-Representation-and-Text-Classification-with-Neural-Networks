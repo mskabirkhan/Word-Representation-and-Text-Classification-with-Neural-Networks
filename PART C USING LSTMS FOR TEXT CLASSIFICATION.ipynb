{
  "nbformat": 4,
  "nbformat_minor": 0,
  "metadata": {
    "colab": {
      "name": "190784331_Lab_5(Part_C).ipynb",
      "provenance": [],
      "collapsed_sections": []
    },
    "kernelspec": {
      "name": "python3",
      "display_name": "Python 3"
    },
    "accelerator": "GPU"
  },
  "cells": [
    {
      "cell_type": "markdown",
      "metadata": {
        "id": "tPLUUcDCirmS",
        "colab_type": "text"
      },
      "source": [
        "**Lab 5 - LSTM for Text Classification**"
      ]
    },
    {
      "cell_type": "markdown",
      "metadata": {
        "id": "mF15GwKPivFC",
        "colab_type": "text"
      },
      "source": [
        "**1. Getting the Dataset**"
      ]
    },
    {
      "cell_type": "code",
      "metadata": {
        "id": "1zu9q26FeGUS",
        "colab_type": "code",
        "colab": {
          "base_uri": "https://localhost:8080/",
          "height": 98
        },
        "outputId": "ab14becb-4428-4c0a-9bc1-954fe736ed1c"
      },
      "source": [
        "import keras\n",
        "import pandas as pd\n",
        "from keras.preprocessing.sequence import pad_sequences\n",
        "from keras.layers import Dense, Embedding, LSTM, Dropout\n",
        "from keras.models import Sequential\n",
        "\n",
        "from keras.utils import plot_model\n",
        "from IPython.display import SVG\n",
        "from keras.utils import vis_utils\n",
        "\n",
        "from pandas import DataFrame\n",
        "\n",
        "from sklearn.manifold import TSNE\n",
        "import matplotlib.pyplot as plt\n",
        "import numpy as np"
      ],
      "execution_count": 1,
      "outputs": [
        {
          "output_type": "stream",
          "text": [
            "Using TensorFlow backend.\n"
          ],
          "name": "stderr"
        },
        {
          "output_type": "display_data",
          "data": {
            "text/html": [
              "<p style=\"color: red;\">\n",
              "The default version of TensorFlow in Colab will soon switch to TensorFlow 2.x.<br>\n",
              "We recommend you <a href=\"https://www.tensorflow.org/guide/migrate\" target=\"_blank\">upgrade</a> now \n",
              "or ensure your notebook will continue to use TensorFlow 1.x via the <code>%tensorflow_version 1.x</code> magic:\n",
              "<a href=\"https://colab.research.google.com/notebooks/tensorflow_version.ipynb\" target=\"_blank\">more info</a>.</p>\n"
            ],
            "text/plain": [
              "<IPython.core.display.HTML object>"
            ]
          },
          "metadata": {
            "tags": []
          }
        }
      ]
    },
    {
      "cell_type": "code",
      "metadata": {
        "id": "IY6cWP_4iB2s",
        "colab_type": "code",
        "colab": {
          "base_uri": "https://localhost:8080/",
          "height": 52
        },
        "outputId": "38a9114c-3f88-4ba5-c4e0-18da79e24543"
      },
      "source": [
        "imdb = keras.datasets.imdb\n",
        "\n",
        "# loading only the top 10000 words in the vocabulary like you did last week.\n",
        "VOCAB_SIZE = 10000\n",
        "# we reserve indices 0 for ‘<PAD>’, 1 for ‘<START>’ and 2 for ‘<UNK>’ i.e. words not in vocabulary\n",
        "INDEX_FROM = 2 # EDITED\n",
        "(train_data,train_labels),(test_data,test_labels) = imdb.load_data(num_words=VOCAB_SIZE,\n",
        "index_from=INDEX_FROM)"
      ],
      "execution_count": 2,
      "outputs": [
        {
          "output_type": "stream",
          "text": [
            "Downloading data from https://s3.amazonaws.com/text-datasets/imdb.npz\n",
            "17465344/17464789 [==============================] - 1s 0us/step\n"
          ],
          "name": "stdout"
        }
      ]
    },
    {
      "cell_type": "code",
      "metadata": {
        "id": "3AGJ7uHHimZa",
        "colab_type": "code",
        "outputId": "abfd3414-7788-427a-94c7-12ebb5bc98fa",
        "colab": {
          "base_uri": "https://localhost:8080/",
          "height": 89
        }
      },
      "source": [
        "# Sanity check:\n",
        "# Each instance in the training data is a list of word indices representing the words in the review\n",
        "print('Sample review:', train_data[0])\n",
        "# and each label is 1 if that review is positive, else 0\n",
        "print('\\n Sample label:', test_labels[1])"
      ],
      "execution_count": 3,
      "outputs": [
        {
          "output_type": "stream",
          "text": [
            "Sample review: [1, 13, 21, 15, 42, 529, 972, 1621, 1384, 64, 457, 4467, 65, 3940, 3, 172, 35, 255, 4, 24, 99, 42, 837, 111, 49, 669, 2, 8, 34, 479, 283, 4, 149, 3, 171, 111, 166, 2, 335, 384, 38, 3, 171, 4535, 1110, 16, 545, 37, 12, 446, 3, 191, 49, 15, 5, 146, 2024, 18, 13, 21, 3, 1919, 4612, 468, 3, 21, 70, 86, 11, 15, 42, 529, 37, 75, 14, 12, 1246, 3, 21, 16, 514, 16, 11, 15, 625, 17, 2, 4, 61, 385, 11, 7, 315, 7, 105, 4, 3, 2222, 5243, 15, 479, 65, 3784, 32, 3, 129, 11, 15, 37, 618, 4, 24, 123, 50, 35, 134, 47, 24, 1414, 32, 5, 21, 11, 214, 27, 76, 51, 4, 13, 406, 15, 81, 2, 7, 3, 106, 116, 5951, 14, 255, 3, 2, 6, 3765, 4, 722, 35, 70, 42, 529, 475, 25, 399, 316, 45, 6, 3, 2, 1028, 12, 103, 87, 3, 380, 14, 296, 97, 31, 2070, 55, 25, 140, 5, 193, 7485, 17, 3, 225, 21, 20, 133, 475, 25, 479, 4, 143, 29, 5534, 17, 50, 35, 27, 223, 91, 24, 103, 3, 225, 64, 15, 37, 1333, 87, 11, 15, 282, 4, 15, 4471, 112, 102, 31, 14, 15, 5344, 18, 177, 31]\n",
            "\n",
            " Sample label: 1\n"
          ],
          "name": "stdout"
        }
      ]
    },
    {
      "cell_type": "markdown",
      "metadata": {
        "id": "b1GHJ0dPiyG2",
        "colab_type": "text"
      },
      "source": [
        "**2. Readying the Inputs for the LSTM**"
      ]
    },
    {
      "cell_type": "code",
      "metadata": {
        "id": "eqmMgoyWi2Mb",
        "colab_type": "code",
        "colab": {}
      },
      "source": [
        "# Using pad_sequences from keras.preprocessing.sequence, pad the train and test data.\n",
        "from keras.preprocessing.sequence import pad_sequences\n",
        "MAXIMUM_LENGTH = 500\n",
        "\n",
        "# Pre-process the train and test data by padding the sequences\n",
        "preprocessed_train_data = pad_sequences(train_data, MAXIMUM_LENGTH)\n",
        "preprocessed_test_data = pad_sequences(test_data, MAXIMUM_LENGTH)"
      ],
      "execution_count": 0,
      "outputs": []
    },
    {
      "cell_type": "code",
      "metadata": {
        "id": "161E7F_-lLul",
        "colab_type": "code",
        "outputId": "68bd4f1a-9e2c-44ca-9db4-fdeec56e9b40",
        "colab": {
          "base_uri": "https://localhost:8080/",
          "height": 52
        }
      },
      "source": [
        "# Sanity Check\n",
        "print('Length of sample train_data before preprocessing:', len(train_data[0]))\n",
        "print('Length of sample train_data after preprocessing:', len(preprocessed_train_data[0]))"
      ],
      "execution_count": 5,
      "outputs": [
        {
          "output_type": "stream",
          "text": [
            "Length of sample train_data before preprocessing: 218\n",
            "Length of sample train_data after preprocessing: 500\n"
          ],
          "name": "stdout"
        }
      ]
    },
    {
      "cell_type": "markdown",
      "metadata": {
        "id": "HZEBNpJwodQQ",
        "colab_type": "text"
      },
      "source": [
        "**3. Building the Model**"
      ]
    },
    {
      "cell_type": "code",
      "metadata": {
        "id": "yOPagJ91oiMC",
        "colab_type": "code",
        "outputId": "bf2ecd4d-232f-42ef-c970-14c35df99a43",
        "colab": {
          "base_uri": "https://localhost:8080/",
          "height": 506
        }
      },
      "source": [
        "# Create LSTM based model\n",
        "EMBED_SIZE = 100\n",
        "\n",
        "model = Sequential()\n",
        "model.add(Embedding(input_dim=VOCAB_SIZE, input_length=MAXIMUM_LENGTH, output_dim=EMBED_SIZE))\n",
        "model.add(LSTM(100))\n",
        "model.add(Dense(1, activation='sigmoid'))\n",
        "\n",
        "# view model summary\n",
        "model.summary()\n",
        "\n",
        "model.compile(loss='binary_crossentropy',optimizer='adam',metrics=['accuracy'])\n"
      ],
      "execution_count": 6,
      "outputs": [
        {
          "output_type": "stream",
          "text": [
            "WARNING:tensorflow:From /usr/local/lib/python3.6/dist-packages/keras/backend/tensorflow_backend.py:66: The name tf.get_default_graph is deprecated. Please use tf.compat.v1.get_default_graph instead.\n",
            "\n",
            "WARNING:tensorflow:From /usr/local/lib/python3.6/dist-packages/keras/backend/tensorflow_backend.py:541: The name tf.placeholder is deprecated. Please use tf.compat.v1.placeholder instead.\n",
            "\n",
            "WARNING:tensorflow:From /usr/local/lib/python3.6/dist-packages/keras/backend/tensorflow_backend.py:4432: The name tf.random_uniform is deprecated. Please use tf.random.uniform instead.\n",
            "\n",
            "Model: \"sequential_1\"\n",
            "_________________________________________________________________\n",
            "Layer (type)                 Output Shape              Param #   \n",
            "=================================================================\n",
            "embedding_1 (Embedding)      (None, 500, 100)          1000000   \n",
            "_________________________________________________________________\n",
            "lstm_1 (LSTM)                (None, 100)               80400     \n",
            "_________________________________________________________________\n",
            "dense_1 (Dense)              (None, 1)                 101       \n",
            "=================================================================\n",
            "Total params: 1,080,501\n",
            "Trainable params: 1,080,501\n",
            "Non-trainable params: 0\n",
            "_________________________________________________________________\n",
            "WARNING:tensorflow:From /usr/local/lib/python3.6/dist-packages/keras/optimizers.py:793: The name tf.train.Optimizer is deprecated. Please use tf.compat.v1.train.Optimizer instead.\n",
            "\n",
            "WARNING:tensorflow:From /usr/local/lib/python3.6/dist-packages/keras/backend/tensorflow_backend.py:3657: The name tf.log is deprecated. Please use tf.math.log instead.\n",
            "\n",
            "WARNING:tensorflow:From /usr/local/lib/python3.6/dist-packages/tensorflow_core/python/ops/nn_impl.py:183: where (from tensorflow.python.ops.array_ops) is deprecated and will be removed in a future version.\n",
            "Instructions for updating:\n",
            "Use tf.where in 2.0, which has the same broadcast rule as np.where\n"
          ],
          "name": "stdout"
        }
      ]
    },
    {
      "cell_type": "code",
      "metadata": {
        "id": "06yYjhc98tDE",
        "colab_type": "code",
        "outputId": "cce5aa81-44a8-47b7-9528-822967a83694",
        "colab": {
          "base_uri": "https://localhost:8080/",
          "height": 562
        }
      },
      "source": [
        "SVG(vis_utils.model_to_dot(\n",
        "model, show_shapes=True, show_layer_names=True).create(prog='dot', format='svg'))"
      ],
      "execution_count": 7,
      "outputs": [
        {
          "output_type": "execute_result",
          "data": {
            "text/plain": [
              "<IPython.core.display.SVG object>"
            ],
            "image/svg+xml": "<svg height=\"405pt\" viewBox=\"0.00 0.00 358.00 304.00\" width=\"477pt\" xmlns=\"http://www.w3.org/2000/svg\" xmlns:xlink=\"http://www.w3.org/1999/xlink\">\n<g class=\"graph\" id=\"graph0\" transform=\"scale(1.3333 1.3333) rotate(0) translate(4 300)\">\n<title>G</title>\n<polygon fill=\"#ffffff\" points=\"-4,4 -4,-300 354,-300 354,4 -4,4\" stroke=\"transparent\"/>\n<!-- 140002651340640 -->\n<g class=\"node\" id=\"node1\">\n<title>140002651340640</title>\n<polygon fill=\"none\" points=\"0,-249.5 0,-295.5 350,-295.5 350,-249.5 0,-249.5\" stroke=\"#000000\"/>\n<text fill=\"#000000\" font-family=\"Times,serif\" font-size=\"14.00\" text-anchor=\"middle\" x=\"102.5\" y=\"-268.8\">embedding_1_input: InputLayer</text>\n<polyline fill=\"none\" points=\"205,-249.5 205,-295.5 \" stroke=\"#000000\"/>\n<text fill=\"#000000\" font-family=\"Times,serif\" font-size=\"14.00\" text-anchor=\"middle\" x=\"234\" y=\"-280.3\">input:</text>\n<polyline fill=\"none\" points=\"205,-272.5 263,-272.5 \" stroke=\"#000000\"/>\n<text fill=\"#000000\" font-family=\"Times,serif\" font-size=\"14.00\" text-anchor=\"middle\" x=\"234\" y=\"-257.3\">output:</text>\n<polyline fill=\"none\" points=\"263,-249.5 263,-295.5 \" stroke=\"#000000\"/>\n<text fill=\"#000000\" font-family=\"Times,serif\" font-size=\"14.00\" text-anchor=\"middle\" x=\"306.5\" y=\"-280.3\">(None, 500)</text>\n<polyline fill=\"none\" points=\"263,-272.5 350,-272.5 \" stroke=\"#000000\"/>\n<text fill=\"#000000\" font-family=\"Times,serif\" font-size=\"14.00\" text-anchor=\"middle\" x=\"306.5\" y=\"-257.3\">(None, 500)</text>\n</g>\n<!-- 140002651338960 -->\n<g class=\"node\" id=\"node2\">\n<title>140002651338960</title>\n<polygon fill=\"none\" points=\"2,-166.5 2,-212.5 348,-212.5 348,-166.5 2,-166.5\" stroke=\"#000000\"/>\n<text fill=\"#000000\" font-family=\"Times,serif\" font-size=\"14.00\" text-anchor=\"middle\" x=\"87.5\" y=\"-185.8\">embedding_1: Embedding</text>\n<polyline fill=\"none\" points=\"173,-166.5 173,-212.5 \" stroke=\"#000000\"/>\n<text fill=\"#000000\" font-family=\"Times,serif\" font-size=\"14.00\" text-anchor=\"middle\" x=\"202\" y=\"-197.3\">input:</text>\n<polyline fill=\"none\" points=\"173,-189.5 231,-189.5 \" stroke=\"#000000\"/>\n<text fill=\"#000000\" font-family=\"Times,serif\" font-size=\"14.00\" text-anchor=\"middle\" x=\"202\" y=\"-174.3\">output:</text>\n<polyline fill=\"none\" points=\"231,-166.5 231,-212.5 \" stroke=\"#000000\"/>\n<text fill=\"#000000\" font-family=\"Times,serif\" font-size=\"14.00\" text-anchor=\"middle\" x=\"289.5\" y=\"-197.3\">(None, 500)</text>\n<polyline fill=\"none\" points=\"231,-189.5 348,-189.5 \" stroke=\"#000000\"/>\n<text fill=\"#000000\" font-family=\"Times,serif\" font-size=\"14.00\" text-anchor=\"middle\" x=\"289.5\" y=\"-174.3\">(None, 500, 100)</text>\n</g>\n<!-- 140002651340640&#45;&gt;140002651338960 -->\n<g class=\"edge\" id=\"edge1\">\n<title>140002651340640-&gt;140002651338960</title>\n<path d=\"M175,-249.3799C175,-241.1745 175,-231.7679 175,-222.8786\" fill=\"none\" stroke=\"#000000\"/>\n<polygon fill=\"#000000\" points=\"178.5001,-222.784 175,-212.784 171.5001,-222.784 178.5001,-222.784\" stroke=\"#000000\"/>\n</g>\n<!-- 140002651340528 -->\n<g class=\"node\" id=\"node3\">\n<title>140002651340528</title>\n<polygon fill=\"none\" points=\"36.5,-83.5 36.5,-129.5 313.5,-129.5 313.5,-83.5 36.5,-83.5\" stroke=\"#000000\"/>\n<text fill=\"#000000\" font-family=\"Times,serif\" font-size=\"14.00\" text-anchor=\"middle\" x=\"87.5\" y=\"-102.8\">lstm_1: LSTM</text>\n<polyline fill=\"none\" points=\"138.5,-83.5 138.5,-129.5 \" stroke=\"#000000\"/>\n<text fill=\"#000000\" font-family=\"Times,serif\" font-size=\"14.00\" text-anchor=\"middle\" x=\"167.5\" y=\"-114.3\">input:</text>\n<polyline fill=\"none\" points=\"138.5,-106.5 196.5,-106.5 \" stroke=\"#000000\"/>\n<text fill=\"#000000\" font-family=\"Times,serif\" font-size=\"14.00\" text-anchor=\"middle\" x=\"167.5\" y=\"-91.3\">output:</text>\n<polyline fill=\"none\" points=\"196.5,-83.5 196.5,-129.5 \" stroke=\"#000000\"/>\n<text fill=\"#000000\" font-family=\"Times,serif\" font-size=\"14.00\" text-anchor=\"middle\" x=\"255\" y=\"-114.3\">(None, 500, 100)</text>\n<polyline fill=\"none\" points=\"196.5,-106.5 313.5,-106.5 \" stroke=\"#000000\"/>\n<text fill=\"#000000\" font-family=\"Times,serif\" font-size=\"14.00\" text-anchor=\"middle\" x=\"255\" y=\"-91.3\">(None, 100)</text>\n</g>\n<!-- 140002651338960&#45;&gt;140002651340528 -->\n<g class=\"edge\" id=\"edge2\">\n<title>140002651338960-&gt;140002651340528</title>\n<path d=\"M175,-166.3799C175,-158.1745 175,-148.7679 175,-139.8786\" fill=\"none\" stroke=\"#000000\"/>\n<polygon fill=\"#000000\" points=\"178.5001,-139.784 175,-129.784 171.5001,-139.784 178.5001,-139.784\" stroke=\"#000000\"/>\n</g>\n<!-- 140002492229728 -->\n<g class=\"node\" id=\"node4\">\n<title>140002492229728</title>\n<polygon fill=\"none\" points=\"49,-.5 49,-46.5 301,-46.5 301,-.5 49,-.5\" stroke=\"#000000\"/>\n<text fill=\"#000000\" font-family=\"Times,serif\" font-size=\"14.00\" text-anchor=\"middle\" x=\"102.5\" y=\"-19.8\">dense_1: Dense</text>\n<polyline fill=\"none\" points=\"156,-.5 156,-46.5 \" stroke=\"#000000\"/>\n<text fill=\"#000000\" font-family=\"Times,serif\" font-size=\"14.00\" text-anchor=\"middle\" x=\"185\" y=\"-31.3\">input:</text>\n<polyline fill=\"none\" points=\"156,-23.5 214,-23.5 \" stroke=\"#000000\"/>\n<text fill=\"#000000\" font-family=\"Times,serif\" font-size=\"14.00\" text-anchor=\"middle\" x=\"185\" y=\"-8.3\">output:</text>\n<polyline fill=\"none\" points=\"214,-.5 214,-46.5 \" stroke=\"#000000\"/>\n<text fill=\"#000000\" font-family=\"Times,serif\" font-size=\"14.00\" text-anchor=\"middle\" x=\"257.5\" y=\"-31.3\">(None, 100)</text>\n<polyline fill=\"none\" points=\"214,-23.5 301,-23.5 \" stroke=\"#000000\"/>\n<text fill=\"#000000\" font-family=\"Times,serif\" font-size=\"14.00\" text-anchor=\"middle\" x=\"257.5\" y=\"-8.3\">(None, 1)</text>\n</g>\n<!-- 140002651340528&#45;&gt;140002492229728 -->\n<g class=\"edge\" id=\"edge3\">\n<title>140002651340528-&gt;140002492229728</title>\n<path d=\"M175,-83.3799C175,-75.1745 175,-65.7679 175,-56.8786\" fill=\"none\" stroke=\"#000000\"/>\n<polygon fill=\"#000000\" points=\"178.5001,-56.784 175,-46.784 171.5001,-56.784 178.5001,-56.784\" stroke=\"#000000\"/>\n</g>\n</g>\n</svg>"
          },
          "metadata": {
            "tags": []
          },
          "execution_count": 7
        }
      ]
    },
    {
      "cell_type": "markdown",
      "metadata": {
        "id": "Uk3kv8cn-2mj",
        "colab_type": "text"
      },
      "source": [
        "**4. Training the Model**"
      ]
    },
    {
      "cell_type": "code",
      "metadata": {
        "id": "HxA_d1Xt-bsq",
        "colab_type": "code",
        "outputId": "6e535987-a430-40fc-9653-88f6f1de4d4b",
        "colab": {
          "base_uri": "https://localhost:8080/",
          "height": 436
        }
      },
      "source": [
        "# split the training data into training and validation data. You can use 2000 samples for validation and the rest for training\n",
        "\n",
        "validation_data = preprocessed_train_data[:2000]\n",
        "validation_labels = train_labels[:2000]\n",
        "\n",
        "training_data = preprocessed_train_data[2000:]\n",
        "training_labels = train_labels[2000:]\n",
        "\n",
        "history = model.fit(training_data,\n",
        "                    training_labels,\n",
        "                    epochs=3,\n",
        "                    batch_size=100,\n",
        "                    validation_data=(validation_data, validation_labels),\n",
        "                    verbose=1)"
      ],
      "execution_count": 8,
      "outputs": [
        {
          "output_type": "stream",
          "text": [
            "WARNING:tensorflow:From /usr/local/lib/python3.6/dist-packages/keras/backend/tensorflow_backend.py:1033: The name tf.assign_add is deprecated. Please use tf.compat.v1.assign_add instead.\n",
            "\n",
            "WARNING:tensorflow:From /usr/local/lib/python3.6/dist-packages/keras/backend/tensorflow_backend.py:1020: The name tf.assign is deprecated. Please use tf.compat.v1.assign instead.\n",
            "\n",
            "WARNING:tensorflow:From /usr/local/lib/python3.6/dist-packages/keras/backend/tensorflow_backend.py:3005: The name tf.Session is deprecated. Please use tf.compat.v1.Session instead.\n",
            "\n",
            "Train on 23000 samples, validate on 2000 samples\n",
            "Epoch 1/3\n",
            "WARNING:tensorflow:From /usr/local/lib/python3.6/dist-packages/keras/backend/tensorflow_backend.py:190: The name tf.get_default_session is deprecated. Please use tf.compat.v1.get_default_session instead.\n",
            "\n",
            "WARNING:tensorflow:From /usr/local/lib/python3.6/dist-packages/keras/backend/tensorflow_backend.py:197: The name tf.ConfigProto is deprecated. Please use tf.compat.v1.ConfigProto instead.\n",
            "\n",
            "WARNING:tensorflow:From /usr/local/lib/python3.6/dist-packages/keras/backend/tensorflow_backend.py:207: The name tf.global_variables is deprecated. Please use tf.compat.v1.global_variables instead.\n",
            "\n",
            "WARNING:tensorflow:From /usr/local/lib/python3.6/dist-packages/keras/backend/tensorflow_backend.py:216: The name tf.is_variable_initialized is deprecated. Please use tf.compat.v1.is_variable_initialized instead.\n",
            "\n",
            "WARNING:tensorflow:From /usr/local/lib/python3.6/dist-packages/keras/backend/tensorflow_backend.py:223: The name tf.variables_initializer is deprecated. Please use tf.compat.v1.variables_initializer instead.\n",
            "\n",
            "23000/23000 [==============================] - 182s 8ms/step - loss: 0.5074 - acc: 0.7544 - val_loss: 0.3445 - val_acc: 0.8580\n",
            "Epoch 2/3\n",
            "23000/23000 [==============================] - 170s 7ms/step - loss: 0.2849 - acc: 0.8873 - val_loss: 0.3075 - val_acc: 0.8715\n",
            "Epoch 3/3\n",
            "23000/23000 [==============================] - 168s 7ms/step - loss: 0.2133 - acc: 0.9213 - val_loss: 0.3171 - val_acc: 0.8725\n"
          ],
          "name": "stdout"
        }
      ]
    },
    {
      "cell_type": "markdown",
      "metadata": {
        "id": "E9CU5VQECAhi",
        "colab_type": "text"
      },
      "source": [
        "**Plot the Training & Validation Accuracy**"
      ]
    },
    {
      "cell_type": "code",
      "metadata": {
        "id": "YlLUw_MBB9a1",
        "colab_type": "code",
        "outputId": "4e05d87f-ef4b-4b1d-ec97-9b664535cd35",
        "colab": {
          "base_uri": "https://localhost:8080/",
          "height": 295
        }
      },
      "source": [
        "history_dict = history.history\n",
        "\n",
        "acc = history_dict['acc']\n",
        "val_acc = history_dict['val_acc']\n",
        "loss = history_dict['loss']\n",
        "val_loss = history_dict['val_loss']\n",
        "\n",
        "epochs = range(1, len(acc) + 1)\n",
        "\n",
        "plt.plot(epochs, acc, 'bo', label='Training accuracy')\n",
        "plt.plot(epochs, val_acc, 'b', label='Validation accuracy')\n",
        "plt.title('Training and validation accuracy')\n",
        "plt.xlabel('Epochs')\n",
        "plt.ylabel('Accuracy')\n",
        "plt.legend()\n",
        "\n",
        "plt.show()"
      ],
      "execution_count": 9,
      "outputs": [
        {
          "output_type": "display_data",
          "data": {
            "image/png": "[encoded data removed]",
            "text/plain": [
              "<Figure size 432x288 with 1 Axes>"
            ]
          },
          "metadata": {
            "tags": []
          }
        }
      ]
    },
    {
      "cell_type": "markdown",
      "metadata": {
        "id": "C0E7NvNfou7C",
        "colab_type": "text"
      },
      "source": [
        "**5. Evaluating the Model on the Test Dat**"
      ]
    },
    {
      "cell_type": "code",
      "metadata": {
        "id": "DbXqtooyCHG9",
        "colab_type": "code",
        "outputId": "0dd4981e-e420-45d9-8764-d1879fd83955",
        "colab": {
          "base_uri": "https://localhost:8080/",
          "height": 52
        }
      },
      "source": [
        "# Preparing the test data and evaluating the model\n",
        "test_data = pad_sequences(test_data, MAXIMUM_LENGTH)\n",
        "\n",
        "results = model.evaluate(test_data, test_labels)\n",
        "\n",
        "print('Test_loss:', results[0], 'Test_accuracy:', results[1])"
      ],
      "execution_count": 10,
      "outputs": [
        {
          "output_type": "stream",
          "text": [
            "25000/25000 [==============================] - 199s 8ms/step\n",
            "Test_loss: 0.34017756673812866 Test_accuracy: 0.85548\n"
          ],
          "name": "stdout"
        }
      ]
    },
    {
      "cell_type": "markdown",
      "metadata": {
        "id": "111MUuQ0pNqj",
        "colab_type": "text"
      },
      "source": [
        "**6. Extracting the Word Embeddings**"
      ]
    },
    {
      "cell_type": "code",
      "metadata": {
        "id": "TDFfeYsQpLs_",
        "colab_type": "code",
        "outputId": "370faf4f-4c29-4f61-8ea3-4c300115b0a2",
        "colab": {
          "base_uri": "https://localhost:8080/",
          "height": 295
        }
      },
      "source": [
        "# Get the word embeddings and show their shape\n",
        "word_embeddings = model.get_layer('embedding_1').get_weights()[0]\n",
        "print('Shape of word_embeddings:', word_embeddings.shape)\n",
        "\n",
        "print(model.summary())"
      ],
      "execution_count": 11,
      "outputs": [
        {
          "output_type": "stream",
          "text": [
            "Shape of word_embeddings: (10000, 100)\n",
            "Model: \"sequential_1\"\n",
            "_________________________________________________________________\n",
            "Layer (type)                 Output Shape              Param #   \n",
            "=================================================================\n",
            "embedding_1 (Embedding)      (None, 500, 100)          1000000   \n",
            "_________________________________________________________________\n",
            "lstm_1 (LSTM)                (None, 100)               80400     \n",
            "_________________________________________________________________\n",
            "dense_1 (Dense)              (None, 1)                 101       \n",
            "=================================================================\n",
            "Total params: 1,080,501\n",
            "Trainable params: 1,080,501\n",
            "Non-trainable params: 0\n",
            "_________________________________________________________________\n",
            "None\n"
          ],
          "name": "stdout"
        }
      ]
    },
    {
      "cell_type": "markdown",
      "metadata": {
        "id": "BzNepjmUqlHi",
        "colab_type": "text"
      },
      "source": [
        "**7. Visualizing the Reviews**"
      ]
    },
    {
      "cell_type": "code",
      "metadata": {
        "id": "TCcdifgoqETL",
        "colab_type": "code",
        "outputId": "87f8c2eb-d0c8-448f-983e-0e796293b127",
        "colab": {
          "base_uri": "https://localhost:8080/",
          "height": 89
        }
      },
      "source": [
        "word2idx = imdb.get_word_index()\n",
        "# 9998 since we only used top 1000 words of including ‘<PAD>’, ‘<START>’ and ‘<UNK>’\n",
        "word2idx = {k:(v+INDEX_FROM) for k,v in word2idx.items() if v < 9998}\n",
        "word2idx[\"<PAD>\"] = 0\n",
        "word2idx[\"<START>\"] = 1\n",
        "word2idx[\"<UNK>\"] = 2\n",
        "\n",
        "# In the next line, create the idx2word map for all the words in the dataset\n",
        "idx2word = {v:k for k,v in word2idx.items()}\n",
        "\n",
        "# View a sample review text using the lines of code below:\n",
        "print(' '.join(idx2word[idx] for idx in train_data[0]))"
      ],
      "execution_count": 12,
      "outputs": [
        {
          "output_type": "stream",
          "text": [
            "Downloading data from https://s3.amazonaws.com/text-datasets/imdb_word_index.json\n",
            "1646592/1641221 [==============================] - 0s 0us/step\n",
            "<START> this film was just brilliant casting location scenery story direction everyone's really suited the part they played and you could just imagine being there robert <UNK> is an amazing actor and now the same being director <UNK> father came from the same scottish island as myself so i loved the fact there was a real connection with this film the witty remarks throughout the film were great it was just brilliant so much that i bought the film as soon as it was released for <UNK> and would recommend it to everyone to watch and the fly fishing was amazing really cried at the end it was so sad and you know what they say if you cry at a film it must have been good and this definitely was also <UNK> to the two little boy's that played the <UNK> of norman and paul they were just brilliant children are often left out of the <UNK> list i think because the stars that play them all grown up are such a big profile for the whole film but these children are amazing and should be praised for what they have done don't you think the whole story was so lovely because it was true and was someone's life after all that was shared with us all\n"
          ],
          "name": "stdout"
        }
      ]
    },
    {
      "cell_type": "code",
      "metadata": {
        "id": "qEl5A39truzO",
        "colab_type": "code",
        "outputId": "27a3c11b-938d-4fa1-ceea-96a9d7c2bab4",
        "colab": {
          "base_uri": "https://localhost:8080/",
          "height": 54
        }
      },
      "source": [
        "# view the corresponding data\n",
        "print(train_data[0])"
      ],
      "execution_count": 13,
      "outputs": [
        {
          "output_type": "stream",
          "text": [
            "[1, 13, 21, 15, 42, 529, 972, 1621, 1384, 64, 457, 4467, 65, 3940, 3, 172, 35, 255, 4, 24, 99, 42, 837, 111, 49, 669, 2, 8, 34, 479, 283, 4, 149, 3, 171, 111, 166, 2, 335, 384, 38, 3, 171, 4535, 1110, 16, 545, 37, 12, 446, 3, 191, 49, 15, 5, 146, 2024, 18, 13, 21, 3, 1919, 4612, 468, 3, 21, 70, 86, 11, 15, 42, 529, 37, 75, 14, 12, 1246, 3, 21, 16, 514, 16, 11, 15, 625, 17, 2, 4, 61, 385, 11, 7, 315, 7, 105, 4, 3, 2222, 5243, 15, 479, 65, 3784, 32, 3, 129, 11, 15, 37, 618, 4, 24, 123, 50, 35, 134, 47, 24, 1414, 32, 5, 21, 11, 214, 27, 76, 51, 4, 13, 406, 15, 81, 2, 7, 3, 106, 116, 5951, 14, 255, 3, 2, 6, 3765, 4, 722, 35, 70, 42, 529, 475, 25, 399, 316, 45, 6, 3, 2, 1028, 12, 103, 87, 3, 380, 14, 296, 97, 31, 2070, 55, 25, 140, 5, 193, 7485, 17, 3, 225, 21, 20, 133, 475, 25, 479, 4, 143, 29, 5534, 17, 50, 35, 27, 223, 91, 24, 103, 3, 225, 64, 15, 37, 1333, 87, 11, 15, 282, 4, 15, 4471, 112, 102, 31, 14, 15, 5344, 18, 177, 31]\n"
          ],
          "name": "stdout"
        }
      ]
    },
    {
      "cell_type": "markdown",
      "metadata": {
        "id": "T1pMmi0XsctP",
        "colab_type": "text"
      },
      "source": [
        "**8. Visualizing the Word_Embeddings**"
      ]
    },
    {
      "cell_type": "code",
      "metadata": {
        "id": "cDzfLn0JsgXw",
        "colab_type": "code",
        "outputId": "0fe8cc19-0769-4bef-b227-2d4b1e13eeca",
        "colab": {
          "base_uri": "https://localhost:8080/",
          "height": 243
        }
      },
      "source": [
        "print(pd.DataFrame(word_embeddings, index=idx2word.values()).head(10))\n"
      ],
      "execution_count": 14,
      "outputs": [
        {
          "output_type": "stream",
          "text": [
            "                 0         1         2   ...        97        98        99\n",
            "woods      0.036970 -0.040755  0.046458  ... -0.039630  0.010691 -0.005480\n",
            "hanging    0.034481 -0.014463 -0.023438  ... -0.023953 -0.002324 -0.049854\n",
            "woody      0.003972  0.003017 -0.026078  ...  0.000720 -0.013717  0.021757\n",
            "arranged  -0.040345 -0.035605  0.013405  ... -0.005269  0.003635 -0.001099\n",
            "bringing  -0.020066 -0.023747  0.031140  ...  0.033174 -0.005584 -0.019402\n",
            "wooden     0.013744  0.044890  0.018221  ... -0.044328  0.010928  0.017042\n",
            "errors    -0.038434  0.033166  0.052815  ... -0.033909 -0.018686  0.026974\n",
            "dialogs    0.018987  0.051478 -0.021548  ...  0.019731 -0.022677 -0.041932\n",
            "kids       0.004468 -0.054481  0.027792  ...  0.010589  0.019741 -0.013549\n",
            "uplifting -0.027957 -0.010216  0.033519  ... -0.028819  0.047909 -0.015226\n",
            "\n",
            "[10 rows x 100 columns]\n"
          ],
          "name": "stdout"
        }
      ]
    },
    {
      "cell_type": "code",
      "metadata": {
        "id": "bfhiNOkXuA__",
        "colab_type": "code",
        "outputId": "9c3a6369-0471-41ba-9188-af64b8c91ddb",
        "colab": {
          "base_uri": "https://localhost:8080/",
          "height": 503
        }
      },
      "source": [
        "# Ploting the word embeddings using TSNE\n",
        "tsne = TSNE(perplexity=3, n_components=2, init='pca', n_iter=5000, method='exact')\n",
        "np.set_printoptions(suppress=True)\n",
        "start = 3\n",
        "plot_only = 54\n",
        "\n",
        "T = tsne.fit_transform(word_embeddings[:plot_only, :])\n",
        "labels = [idx2word[i+1] for i in range(plot_only)]\n",
        "plt.figure(figsize=(14, 8))\n",
        "plt.scatter(T[:, 0], T[:, 1])\n",
        "for label, x, y in zip(labels, T[:, 0], T[:, 1]):\n",
        "    plt.annotate(label, xy=(x+1, y+1), xytext=(0, 0), textcoords='offset points', ha='right',\n",
        "va='bottom')"
      ],
      "execution_count": 15,
      "outputs": [
        {
          "output_type": "display_data",
          "data": {
            "image/png": "[encoded data removed]",
            "text/plain": [
              "<Figure size 1008x576 with 1 Axes>"
            ]
          },
          "metadata": {
            "tags": []
          }
        }
      ]
    },
    {
      "cell_type": "markdown",
      "metadata": {
        "id": "8sSs_rjzoB3O",
        "colab_type": "text"
      },
      "source": [
        "**9. Questions**"
      ]
    },
    {
      "cell_type": "markdown",
      "metadata": {
        "id": "dG1FqjcPoDtg",
        "colab_type": "text"
      },
      "source": [
        "1. Create a new model that is a copy of the model step 3. To this new model, add two dropout\n",
        "layers, one between the embedding layer and the LSTM layer and another between the\n",
        "LSTM layer and the output layer. Repeat steps 4 and 5 for this model. What do you observe?\n",
        "How about if you train this new model for 6 epochs instead?\n",
        "2. Experiment with compiling the model with batch sizes of 1, 32, len(training_data). What do\n",
        "you observe?\n",
        "3. (optional) Can you retrain with a Bidirectional LSTM instead of an LSTM? What do you\n",
        "observe about the Bi-LSTM model at 3 epochs? What about at 6 epochs?"
      ]
    },
    {
      "cell_type": "code",
      "metadata": {
        "id": "BrYcG50un9pH",
        "colab_type": "code",
        "colab": {
          "base_uri": "https://localhost:8080/",
          "height": 436
        },
        "outputId": "bd75e536-816f-439f-c9e6-86e782c4839d"
      },
      "source": [
        "# Create LSTM based model\n",
        "EMBED_SIZE = 100\n",
        "model2 = Sequential()\n",
        "model2.add(Embedding(VOCAB_SIZE, EMBED_SIZE,input_length=MAXIMUM_LENGTH))\n",
        "model2.add(Dropout(0.2))\n",
        "model2.add(LSTM(100))\n",
        "model2.add(Dropout(0.2))\n",
        "model2.add(Dense(1, activation='sigmoid'))\n",
        "model2.summary()\n",
        "\n",
        "model2.compile(optimizer='adam',\n",
        "              loss='binary_crossentropy',\n",
        "              metrics=['accuracy'])"
      ],
      "execution_count": 16,
      "outputs": [
        {
          "output_type": "stream",
          "text": [
            "WARNING:tensorflow:From /usr/local/lib/python3.6/dist-packages/keras/backend/tensorflow_backend.py:148: The name tf.placeholder_with_default is deprecated. Please use tf.compat.v1.placeholder_with_default instead.\n",
            "\n",
            "WARNING:tensorflow:From /usr/local/lib/python3.6/dist-packages/keras/backend/tensorflow_backend.py:3733: calling dropout (from tensorflow.python.ops.nn_ops) with keep_prob is deprecated and will be removed in a future version.\n",
            "Instructions for updating:\n",
            "Please use `rate` instead of `keep_prob`. Rate should be set to `rate = 1 - keep_prob`.\n",
            "Model: \"sequential_2\"\n",
            "_________________________________________________________________\n",
            "Layer (type)                 Output Shape              Param #   \n",
            "=================================================================\n",
            "embedding_2 (Embedding)      (None, 500, 100)          1000000   \n",
            "_________________________________________________________________\n",
            "dropout_1 (Dropout)          (None, 500, 100)          0         \n",
            "_________________________________________________________________\n",
            "lstm_2 (LSTM)                (None, 100)               80400     \n",
            "_________________________________________________________________\n",
            "dropout_2 (Dropout)          (None, 100)               0         \n",
            "_________________________________________________________________\n",
            "dense_2 (Dense)              (None, 1)                 101       \n",
            "=================================================================\n",
            "Total params: 1,080,501\n",
            "Trainable params: 1,080,501\n",
            "Non-trainable params: 0\n",
            "_________________________________________________________________\n"
          ],
          "name": "stdout"
        }
      ]
    },
    {
      "cell_type": "code",
      "metadata": {
        "id": "fL9d0crzowOV",
        "colab_type": "code",
        "colab": {
          "base_uri": "https://localhost:8080/",
          "height": 858
        },
        "outputId": "7919cd31-d256-4fbe-a6c0-e6bc58a3f126"
      },
      "source": [
        "# Visualise the model another way\n",
        "SVG(vis_utils.model_to_dot(\n",
        "model2, show_shapes=True, show_layer_names=True).create(prog='dot', format='svg'))"
      ],
      "execution_count": 19,
      "outputs": [
        {
          "output_type": "execute_result",
          "data": {
            "text/plain": [
              "<IPython.core.display.SVG object>"
            ],
            "image/svg+xml": "<svg height=\"627pt\" viewBox=\"0.00 0.00 358.00 470.00\" width=\"477pt\" xmlns=\"http://www.w3.org/2000/svg\" xmlns:xlink=\"http://www.w3.org/1999/xlink\">\n<g class=\"graph\" id=\"graph0\" transform=\"scale(1.3333 1.3333) rotate(0) translate(4 466)\">\n<title>G</title>\n<polygon fill=\"#ffffff\" points=\"-4,4 -4,-466 354,-466 354,4 -4,4\" stroke=\"transparent\"/>\n<!-- 140002498497392 -->\n<g class=\"node\" id=\"node1\">\n<title>140002498497392</title>\n<polygon fill=\"none\" points=\"0,-415.5 0,-461.5 350,-461.5 350,-415.5 0,-415.5\" stroke=\"#000000\"/>\n<text fill=\"#000000\" font-family=\"Times,serif\" font-size=\"14.00\" text-anchor=\"middle\" x=\"102.5\" y=\"-434.8\">embedding_2_input: InputLayer</text>\n<polyline fill=\"none\" points=\"205,-415.5 205,-461.5 \" stroke=\"#000000\"/>\n<text fill=\"#000000\" font-family=\"Times,serif\" font-size=\"14.00\" text-anchor=\"middle\" x=\"234\" y=\"-446.3\">input:</text>\n<polyline fill=\"none\" points=\"205,-438.5 263,-438.5 \" stroke=\"#000000\"/>\n<text fill=\"#000000\" font-family=\"Times,serif\" font-size=\"14.00\" text-anchor=\"middle\" x=\"234\" y=\"-423.3\">output:</text>\n<polyline fill=\"none\" points=\"263,-415.5 263,-461.5 \" stroke=\"#000000\"/>\n<text fill=\"#000000\" font-family=\"Times,serif\" font-size=\"14.00\" text-anchor=\"middle\" x=\"306.5\" y=\"-446.3\">(None, 500)</text>\n<polyline fill=\"none\" points=\"263,-438.5 350,-438.5 \" stroke=\"#000000\"/>\n<text fill=\"#000000\" font-family=\"Times,serif\" font-size=\"14.00\" text-anchor=\"middle\" x=\"306.5\" y=\"-423.3\">(None, 500)</text>\n</g>\n<!-- 140002498496888 -->\n<g class=\"node\" id=\"node2\">\n<title>140002498496888</title>\n<polygon fill=\"none\" points=\"2,-332.5 2,-378.5 348,-378.5 348,-332.5 2,-332.5\" stroke=\"#000000\"/>\n<text fill=\"#000000\" font-family=\"Times,serif\" font-size=\"14.00\" text-anchor=\"middle\" x=\"87.5\" y=\"-351.8\">embedding_2: Embedding</text>\n<polyline fill=\"none\" points=\"173,-332.5 173,-378.5 \" stroke=\"#000000\"/>\n<text fill=\"#000000\" font-family=\"Times,serif\" font-size=\"14.00\" text-anchor=\"middle\" x=\"202\" y=\"-363.3\">input:</text>\n<polyline fill=\"none\" points=\"173,-355.5 231,-355.5 \" stroke=\"#000000\"/>\n<text fill=\"#000000\" font-family=\"Times,serif\" font-size=\"14.00\" text-anchor=\"middle\" x=\"202\" y=\"-340.3\">output:</text>\n<polyline fill=\"none\" points=\"231,-332.5 231,-378.5 \" stroke=\"#000000\"/>\n<text fill=\"#000000\" font-family=\"Times,serif\" font-size=\"14.00\" text-anchor=\"middle\" x=\"289.5\" y=\"-363.3\">(None, 500)</text>\n<polyline fill=\"none\" points=\"231,-355.5 348,-355.5 \" stroke=\"#000000\"/>\n<text fill=\"#000000\" font-family=\"Times,serif\" font-size=\"14.00\" text-anchor=\"middle\" x=\"289.5\" y=\"-340.3\">(None, 500, 100)</text>\n</g>\n<!-- 140002498497392&#45;&gt;140002498496888 -->\n<g class=\"edge\" id=\"edge1\">\n<title>140002498497392-&gt;140002498496888</title>\n<path d=\"M175,-415.3799C175,-407.1745 175,-397.7679 175,-388.8786\" fill=\"none\" stroke=\"#000000\"/>\n<polygon fill=\"#000000\" points=\"178.5001,-388.784 175,-378.784 171.5001,-388.784 178.5001,-388.784\" stroke=\"#000000\"/>\n</g>\n<!-- 140002364403952 -->\n<g class=\"node\" id=\"node3\">\n<title>140002364403952</title>\n<polygon fill=\"none\" points=\"20.5,-249.5 20.5,-295.5 329.5,-295.5 329.5,-249.5 20.5,-249.5\" stroke=\"#000000\"/>\n<text fill=\"#000000\" font-family=\"Times,serif\" font-size=\"14.00\" text-anchor=\"middle\" x=\"87.5\" y=\"-268.8\">dropout_1: Dropout</text>\n<polyline fill=\"none\" points=\"154.5,-249.5 154.5,-295.5 \" stroke=\"#000000\"/>\n<text fill=\"#000000\" font-family=\"Times,serif\" font-size=\"14.00\" text-anchor=\"middle\" x=\"183.5\" y=\"-280.3\">input:</text>\n<polyline fill=\"none\" points=\"154.5,-272.5 212.5,-272.5 \" stroke=\"#000000\"/>\n<text fill=\"#000000\" font-family=\"Times,serif\" font-size=\"14.00\" text-anchor=\"middle\" x=\"183.5\" y=\"-257.3\">output:</text>\n<polyline fill=\"none\" points=\"212.5,-249.5 212.5,-295.5 \" stroke=\"#000000\"/>\n<text fill=\"#000000\" font-family=\"Times,serif\" font-size=\"14.00\" text-anchor=\"middle\" x=\"271\" y=\"-280.3\">(None, 500, 100)</text>\n<polyline fill=\"none\" points=\"212.5,-272.5 329.5,-272.5 \" stroke=\"#000000\"/>\n<text fill=\"#000000\" font-family=\"Times,serif\" font-size=\"14.00\" text-anchor=\"middle\" x=\"271\" y=\"-257.3\">(None, 500, 100)</text>\n</g>\n<!-- 140002498496888&#45;&gt;140002364403952 -->\n<g class=\"edge\" id=\"edge2\">\n<title>140002498496888-&gt;140002364403952</title>\n<path d=\"M175,-332.3799C175,-324.1745 175,-314.7679 175,-305.8786\" fill=\"none\" stroke=\"#000000\"/>\n<polygon fill=\"#000000\" points=\"178.5001,-305.784 175,-295.784 171.5001,-305.784 178.5001,-305.784\" stroke=\"#000000\"/>\n</g>\n<!-- 140002364387168 -->\n<g class=\"node\" id=\"node4\">\n<title>140002364387168</title>\n<polygon fill=\"none\" points=\"36.5,-166.5 36.5,-212.5 313.5,-212.5 313.5,-166.5 36.5,-166.5\" stroke=\"#000000\"/>\n<text fill=\"#000000\" font-family=\"Times,serif\" font-size=\"14.00\" text-anchor=\"middle\" x=\"87.5\" y=\"-185.8\">lstm_2: LSTM</text>\n<polyline fill=\"none\" points=\"138.5,-166.5 138.5,-212.5 \" stroke=\"#000000\"/>\n<text fill=\"#000000\" font-family=\"Times,serif\" font-size=\"14.00\" text-anchor=\"middle\" x=\"167.5\" y=\"-197.3\">input:</text>\n<polyline fill=\"none\" points=\"138.5,-189.5 196.5,-189.5 \" stroke=\"#000000\"/>\n<text fill=\"#000000\" font-family=\"Times,serif\" font-size=\"14.00\" text-anchor=\"middle\" x=\"167.5\" y=\"-174.3\">output:</text>\n<polyline fill=\"none\" points=\"196.5,-166.5 196.5,-212.5 \" stroke=\"#000000\"/>\n<text fill=\"#000000\" font-family=\"Times,serif\" font-size=\"14.00\" text-anchor=\"middle\" x=\"255\" y=\"-197.3\">(None, 500, 100)</text>\n<polyline fill=\"none\" points=\"196.5,-189.5 313.5,-189.5 \" stroke=\"#000000\"/>\n<text fill=\"#000000\" font-family=\"Times,serif\" font-size=\"14.00\" text-anchor=\"middle\" x=\"255\" y=\"-174.3\">(None, 100)</text>\n</g>\n<!-- 140002364403952&#45;&gt;140002364387168 -->\n<g class=\"edge\" id=\"edge3\">\n<title>140002364403952-&gt;140002364387168</title>\n<path d=\"M175,-249.3799C175,-241.1745 175,-231.7679 175,-222.8786\" fill=\"none\" stroke=\"#000000\"/>\n<polygon fill=\"#000000\" points=\"178.5001,-222.784 175,-212.784 171.5001,-222.784 178.5001,-222.784\" stroke=\"#000000\"/>\n</g>\n<!-- 140002498494704 -->\n<g class=\"node\" id=\"node5\">\n<title>140002498494704</title>\n<polygon fill=\"none\" points=\"35.5,-83.5 35.5,-129.5 314.5,-129.5 314.5,-83.5 35.5,-83.5\" stroke=\"#000000\"/>\n<text fill=\"#000000\" font-family=\"Times,serif\" font-size=\"14.00\" text-anchor=\"middle\" x=\"102.5\" y=\"-102.8\">dropout_2: Dropout</text>\n<polyline fill=\"none\" points=\"169.5,-83.5 169.5,-129.5 \" stroke=\"#000000\"/>\n<text fill=\"#000000\" font-family=\"Times,serif\" font-size=\"14.00\" text-anchor=\"middle\" x=\"198.5\" y=\"-114.3\">input:</text>\n<polyline fill=\"none\" points=\"169.5,-106.5 227.5,-106.5 \" stroke=\"#000000\"/>\n<text fill=\"#000000\" font-family=\"Times,serif\" font-size=\"14.00\" text-anchor=\"middle\" x=\"198.5\" y=\"-91.3\">output:</text>\n<polyline fill=\"none\" points=\"227.5,-83.5 227.5,-129.5 \" stroke=\"#000000\"/>\n<text fill=\"#000000\" font-family=\"Times,serif\" font-size=\"14.00\" text-anchor=\"middle\" x=\"271\" y=\"-114.3\">(None, 100)</text>\n<polyline fill=\"none\" points=\"227.5,-106.5 314.5,-106.5 \" stroke=\"#000000\"/>\n<text fill=\"#000000\" font-family=\"Times,serif\" font-size=\"14.00\" text-anchor=\"middle\" x=\"271\" y=\"-91.3\">(None, 100)</text>\n</g>\n<!-- 140002364387168&#45;&gt;140002498494704 -->\n<g class=\"edge\" id=\"edge4\">\n<title>140002364387168-&gt;140002498494704</title>\n<path d=\"M175,-166.3799C175,-158.1745 175,-148.7679 175,-139.8786\" fill=\"none\" stroke=\"#000000\"/>\n<polygon fill=\"#000000\" points=\"178.5001,-139.784 175,-129.784 171.5001,-139.784 178.5001,-139.784\" stroke=\"#000000\"/>\n</g>\n<!-- 140002365371168 -->\n<g class=\"node\" id=\"node6\">\n<title>140002365371168</title>\n<polygon fill=\"none\" points=\"49,-.5 49,-46.5 301,-46.5 301,-.5 49,-.5\" stroke=\"#000000\"/>\n<text fill=\"#000000\" font-family=\"Times,serif\" font-size=\"14.00\" text-anchor=\"middle\" x=\"102.5\" y=\"-19.8\">dense_2: Dense</text>\n<polyline fill=\"none\" points=\"156,-.5 156,-46.5 \" stroke=\"#000000\"/>\n<text fill=\"#000000\" font-family=\"Times,serif\" font-size=\"14.00\" text-anchor=\"middle\" x=\"185\" y=\"-31.3\">input:</text>\n<polyline fill=\"none\" points=\"156,-23.5 214,-23.5 \" stroke=\"#000000\"/>\n<text fill=\"#000000\" font-family=\"Times,serif\" font-size=\"14.00\" text-anchor=\"middle\" x=\"185\" y=\"-8.3\">output:</text>\n<polyline fill=\"none\" points=\"214,-.5 214,-46.5 \" stroke=\"#000000\"/>\n<text fill=\"#000000\" font-family=\"Times,serif\" font-size=\"14.00\" text-anchor=\"middle\" x=\"257.5\" y=\"-31.3\">(None, 100)</text>\n<polyline fill=\"none\" points=\"214,-23.5 301,-23.5 \" stroke=\"#000000\"/>\n<text fill=\"#000000\" font-family=\"Times,serif\" font-size=\"14.00\" text-anchor=\"middle\" x=\"257.5\" y=\"-8.3\">(None, 1)</text>\n</g>\n<!-- 140002498494704&#45;&gt;140002365371168 -->\n<g class=\"edge\" id=\"edge5\">\n<title>140002498494704-&gt;140002365371168</title>\n<path d=\"M175,-83.3799C175,-75.1745 175,-65.7679 175,-56.8786\" fill=\"none\" stroke=\"#000000\"/>\n<polygon fill=\"#000000\" points=\"178.5001,-56.784 175,-46.784 171.5001,-56.784 178.5001,-56.784\" stroke=\"#000000\"/>\n</g>\n</g>\n</svg>"
          },
          "metadata": {
            "tags": []
          },
          "execution_count": 19
        }
      ]
    },
    {
      "cell_type": "code",
      "metadata": {
        "id": "W3j860UooyRA",
        "colab_type": "code",
        "colab": {
          "base_uri": "https://localhost:8080/",
          "height": 159
        },
        "outputId": "47f6c0e6-6434-4314-d337-1f8ef719afcc"
      },
      "source": [
        "\n",
        "history = model.fit(training_data,\n",
        "                    training_labels,\n",
        "                    epochs=3,\n",
        "                    batch_size=100,\n",
        "                    validation_data=(validation_data, validation_labels),\n",
        "                    verbose=1)"
      ],
      "execution_count": 21,
      "outputs": [
        {
          "output_type": "stream",
          "text": [
            "Train on 23000 samples, validate on 2000 samples\n",
            "Epoch 1/3\n",
            "23000/23000 [==============================] - 175s 8ms/step - loss: 0.1650 - acc: 0.9420 - val_loss: 0.3377 - val_acc: 0.8615\n",
            "Epoch 2/3\n",
            "23000/23000 [==============================] - 176s 8ms/step - loss: 0.1321 - acc: 0.9538 - val_loss: 0.3594 - val_acc: 0.8800\n",
            "Epoch 3/3\n",
            "23000/23000 [==============================] - 174s 8ms/step - loss: 0.1000 - acc: 0.9669 - val_loss: 0.4022 - val_acc: 0.8675\n"
          ],
          "name": "stdout"
        }
      ]
    },
    {
      "cell_type": "code",
      "metadata": {
        "id": "rkVq6EEzo6Pm",
        "colab_type": "code",
        "colab": {
          "base_uri": "https://localhost:8080/",
          "height": 295
        },
        "outputId": "10330976-db1a-477d-bfd8-d589d0e111ff"
      },
      "source": [
        "history_dict = history.history\n",
        "\n",
        "acc = history_dict['acc']\n",
        "val_acc = history_dict['val_acc']\n",
        "loss = history_dict['loss']\n",
        "val_loss = history_dict['val_loss']\n",
        "\n",
        "epochs = range(1, len(acc) + 1)\n",
        "\n",
        "plt.plot(epochs, acc, 'bo', label='Training accuracy')\n",
        "plt.plot(epochs, val_acc, 'b', label='Validation accuracy')\n",
        "plt.title('Training and validation accuracy')\n",
        "plt.xlabel('Epochs')\n",
        "plt.ylabel('Accuracy')\n",
        "plt.legend()\n",
        "\n",
        "plt.show()"
      ],
      "execution_count": 22,
      "outputs": [
        {
          "output_type": "display_data",
          "data": {
            "image/png": "[encoded data removed]",
            "text/plain": [
              "<Figure size 432x288 with 1 Axes>"
            ]
          },
          "metadata": {
            "tags": []
          }
        }
      ]
    },
    {
      "cell_type": "code",
      "metadata": {
        "id": "OvPuyqito-Gd",
        "colab_type": "code",
        "colab": {
          "base_uri": "https://localhost:8080/",
          "height": 52
        },
        "outputId": "4d27062b-8972-46ee-b9c3-1168d32b0962"
      },
      "source": [
        "results2 = model2.evaluate(test_data, test_labels)\n",
        "print('test_loss:', results2[0], 'test_accuracy:', results2[1])"
      ],
      "execution_count": 23,
      "outputs": [
        {
          "output_type": "stream",
          "text": [
            "25000/25000 [==============================] - 213s 9ms/step\n",
            "test_loss: 0.6929055417633057 test_accuracy: 0.52052\n"
          ],
          "name": "stdout"
        }
      ]
    }
  ]
}