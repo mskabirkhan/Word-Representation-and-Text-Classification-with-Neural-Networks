{
  "nbformat": 4,
  "nbformat_minor": 0,
  "metadata": {
    "colab": {
      "name": "190784331_Lab 3(Part_A).ipynb",
      "provenance": [],
      "collapsed_sections": []
    },
    "kernelspec": {
      "name": "python3",
      "display_name": "Python 3"
    },
    "accelerator": "GPU"
  },
  "cells": [
    {
      "cell_type": "markdown",
      "metadata": {
        "id": "uFqQxVXvV_3S",
        "colab_type": "text"
      },
      "source": [
        "**1. Downloading the Corpus and importing lib**\n",
        "\n"
      ]
    },
    {
      "cell_type": "code",
      "metadata": {
        "id": "1_R7P4RXKF9q",
        "colab_type": "code",
        "outputId": "13dc15b4-1c87-4692-e9f3-f273700b8219",
        "colab": {
          "base_uri": "https://localhost:8080/",
          "height": 223
        }
      },
      "source": [
        "import nltk\n",
        "import numpy as np\n",
        "import pandas as pd\n",
        "import re\n",
        "\n",
        "from keras.preprocessing.sequence import skipgrams\n",
        "from keras.layers import Dot, Input\n",
        "from keras.layers.core import Dense, Reshape\n",
        "from keras.layers.embeddings import Embedding\n",
        "from keras.models import Model\n",
        "from keras.utils import plot_model\n",
        "from sklearn.manifold import TSNE\n",
        "import matplotlib.pyplot as plt\n",
        "\n",
        "nltk.download('punkt')\n",
        "nltk.download('stopwords')\n",
        "nltk.download('gutenberg')\n",
        "\n",
        "from nltk.corpus import gutenberg\n",
        "from nltk.corpus import stopwords\n",
        "from pandas import DataFrame\n",
        "\n",
        "# Load the Austen Corpus\n",
        "austen = gutenberg.sents('austen-sense.txt') + gutenberg.sents('austen-emma.txt') + gutenberg.sents('austen-persuasion.txt')\n",
        "print()\n",
        "# Sanity Check\n",
        "print('Sanity Checked:', len(austen))"
      ],
      "execution_count": 1,
      "outputs": [
        {
          "output_type": "stream",
          "text": [
            "Using TensorFlow backend.\n"
          ],
          "name": "stderr"
        },
        {
          "output_type": "display_data",
          "data": {
            "text/html": [
              "<p style=\"color: red;\">\n",
              "The default version of TensorFlow in Colab will soon switch to TensorFlow 2.x.<br>\n",
              "We recommend you <a href=\"https://www.tensorflow.org/guide/migrate\" target=\"_blank\">upgrade</a> now \n",
              "or ensure your notebook will continue to use TensorFlow 1.x via the <code>%tensorflow_version 1.x</code> magic:\n",
              "<a href=\"https://colab.research.google.com/notebooks/tensorflow_version.ipynb\" target=\"_blank\">more info</a>.</p>\n"
            ],
            "text/plain": [
              "<IPython.core.display.HTML object>"
            ]
          },
          "metadata": {
            "tags": []
          }
        },
        {
          "output_type": "stream",
          "text": [
            "[nltk_data] Downloading package punkt to /root/nltk_data...\n",
            "[nltk_data]   Unzipping tokenizers/punkt.zip.\n",
            "[nltk_data] Downloading package stopwords to /root/nltk_data...\n",
            "[nltk_data]   Unzipping corpora/stopwords.zip.\n",
            "[nltk_data] Downloading package gutenberg to /root/nltk_data...\n",
            "[nltk_data]   Unzipping corpora/gutenberg.zip.\n",
            "\n",
            "Sanity Checked: 16498\n"
          ],
          "name": "stdout"
        }
      ]
    },
    {
      "cell_type": "markdown",
      "metadata": {
        "id": "paL0_XsrWR5_",
        "colab_type": "text"
      },
      "source": [
        "**2. Preprocessing the Training Corpus**"
      ]
    },
    {
      "cell_type": "code",
      "metadata": {
        "id": "UKBPAQGVePb4",
        "colab_type": "code",
        "colab": {
          "base_uri": "https://localhost:8080/",
          "height": 90
        },
        "outputId": "cd3a740f-1f70-406f-e152-49f2b1d31665"
      },
      "source": [
        "# Initialise the Normalised corpus\n",
        "normalized_corpus = []\n",
        "# Load the stopwords for English\n",
        "stop_words = stopwords.words('english')\n",
        "\n",
        "def preprocessing(line, stop_words):\n",
        "    \n",
        "    # Takes in a list of words and nltk stop words.\n",
        "    processed_Line = []\n",
        "    for word in line:\n",
        "        processedWord = word.lower()\n",
        "        \n",
        "        # Appends words to processed_Line if not in stop words, not blank, not punctuation and is alphanumeric\n",
        "        if processedWord in stop_words or not processedWord.isalnum():\n",
        "            continue\n",
        "        processed_Line.append(processedWord)\n",
        "    \n",
        "    return processed_Line\n",
        "\n",
        "# For each line in austen perform the word strip\n",
        "for line in austen:\n",
        "    processed_Line = preprocessing(line,stop_words)\n",
        "    \n",
        "    # If word is shorter than 2 words, skip it. \n",
        "    if len(processed_Line) > 2:\n",
        "        normalized_corpus.append(processed_Line)\n",
        "print(\"Actual austen length is:\", len(austen))\n",
        "print('Length of processed corpus:', len(normalized_corpus))\n",
        "print('Processed line:', normalized_corpus[10])"
      ],
      "execution_count": 2,
      "outputs": [
        {
          "output_type": "stream",
          "text": [
            "Actual austen length is: 16498\n",
            "Length of processed corpus: 13923\n",
            "Processed line: ['therefore', 'succession', 'norland', 'estate', 'really', 'important', 'sisters', 'fortune', 'independent', 'might', 'arise', 'father', 'inheriting', 'property', 'could', 'small']\n"
          ],
          "name": "stdout"
        }
      ]
    },
    {
      "cell_type": "markdown",
      "metadata": {
        "id": "gXAG-HkBdIox",
        "colab_type": "text"
      },
      "source": [
        "**3. Creating the Corpus Vocabulary and Preparing the Dataset.**"
      ]
    },
    {
      "cell_type": "code",
      "metadata": {
        "id": "j2goOz2UO64L",
        "colab_type": "code",
        "colab": {}
      },
      "source": [
        "# creating index_word relationship\n",
        "word2idx = {'<PADDING>': 0}   \n",
        "idx2word = {}   #0:'<PADDING>'\n",
        "sents_as_ids = []\n",
        "\n",
        "for line in normalized_corpus:\n",
        "  store_ids = []\n",
        "  # if a word is seen before, update it to the store_ids list\n",
        "  for each_word in line:\n",
        "    if each_word is word2idx:\n",
        "      store_ids.append(word2idx[each_word])\n",
        "      print(store_ids)\n",
        "    \n",
        "    # if a word is not have seen before assign it to an id add it to the dict   \n",
        "    count = len(word2idx)\n",
        "    word2idx[each_word] = count\n",
        "    idx2word[count] = each_word\n",
        "    store_ids.append(count)\n",
        "  sents_as_ids.append(store_ids)\n",
        "    \n",
        "# Set vocab size and embed size\n",
        "vocab_size = len(word2idx) + 1\n",
        "embed_size = 100"
      ],
      "execution_count": 0,
      "outputs": []
    },
    {
      "cell_type": "markdown",
      "metadata": {
        "id": "88_EGJfZTbaJ",
        "colab_type": "text"
      },
      "source": [
        "**Sanity check for Part A Question 3**\n",
        "\n",
        "\n"
      ]
    },
    {
      "cell_type": "code",
      "metadata": {
        "id": "ckv20CePTtH4",
        "colab_type": "code",
        "outputId": "c1b8394f-7eb7-4a7c-b850-9075f094b6c8",
        "colab": {
          "base_uri": "https://localhost:8080/",
          "height": 214
        }
      },
      "source": [
        "print(vocab_size)\n",
        "print('Number of unique words:', len(word2idx))\n",
        "print('\\nSample word2idx: ', list(word2idx.items())[:10])\n",
        "print('\\nSample idx2word:', list(idx2word.items())[:10])\n",
        "print('\\nSample normalized corpus:', normalized_corpus[:3])\n",
        "print('\\nAbove sentences as a list of ids:' , sents_as_ids[:3])"
      ],
      "execution_count": 4,
      "outputs": [
        {
          "output_type": "stream",
          "text": [
            "10117\n",
            "Number of unique words: 10116\n",
            "\n",
            "Sample word2idx:  [('<PADDING>', 0), ('sense', 10109), ('sensibility', 10086), ('jane', 8829), ('austen', 8829), ('1811', 5), ('family', 10109), ('dashwood', 6119), ('long', 10109), ('settled', 10112)]\n",
            "\n",
            "Sample idx2word: [(1, 'sense'), (2, 'sensibility'), (3, 'jane'), (4, 'austen'), (5, '1811'), (6, 'family'), (7, 'dashwood'), (8, 'long'), (9, 'settled'), (10, 'sussex')]\n",
            "\n",
            "Sample normalized corpus: [['sense', 'sensibility', 'jane', 'austen', '1811'], ['family', 'dashwood', 'long', 'settled', 'sussex'], ['estate', 'large', 'residence', 'norland', 'park', 'centre', 'property', 'many', 'generations', 'lived', 'respectable', 'manner', 'engage', 'general', 'good', 'opinion', 'surrounding', 'acquaintance']]\n",
            "\n",
            "Above sentences as a list of ids: [[1, 2, 3, 4, 5], [6, 7, 8, 9, 10], [11, 12, 13, 14, 15, 16, 17, 18, 19, 20, 21, 22, 23, 24, 25, 26, 27, 28]]\n"
          ],
          "name": "stdout"
        }
      ]
    },
    {
      "cell_type": "markdown",
      "metadata": {
        "id": "Wf18u7-dUQcQ",
        "colab_type": "text"
      },
      "source": [
        "**4. Generating training instances**"
      ]
    },
    {
      "cell_type": "code",
      "metadata": {
        "id": "NlaS_rijUTWa",
        "colab_type": "code",
        "colab": {}
      },
      "source": [
        "skip_grams = [skipgrams(sent, vocabulary_size=vocab_size, window_size=5) for sent in\n",
        "sents_as_ids]"
      ],
      "execution_count": 0,
      "outputs": []
    },
    {
      "cell_type": "code",
      "metadata": {
        "id": "YW2EclbwVeGF",
        "colab_type": "code",
        "outputId": "53f0783d-9212-480a-fa64-3bb9201df52a",
        "colab": {
          "base_uri": "https://localhost:8080/",
          "height": 727
        }
      },
      "source": [
        "# view sample skip-grams\n",
        "pairs, labels = skip_grams[0][0], skip_grams[0][1]\n",
        "# This shows whether the two words occur together in the context window(size of which is set above) \n",
        "# 1 if they co-occur 0 \n",
        "# We get all the times that a word occurs from the first sentence co-occurs with something \n",
        "# and only a handful (negative sampling) of the words it does not co-occur with \n",
        "\n",
        "for i in range(len(pairs)):\n",
        "  print('({:s} ({:d}), {:s} ({:d})) -> {:d}'.format(\n",
        "  # the first word and its index\n",
        "  idx2word[pairs[i][0]], pairs[i][0],\n",
        "  # the second word and its index\n",
        "  idx2word[pairs[i][1]], pairs[i][1], \n",
        "  # the label\n",
        "  labels[i]))"
      ],
      "execution_count": 6,
      "outputs": [
        {
          "output_type": "stream",
          "text": [
            "(sensibility (2), sense (1)) -> 1\n",
            "(sense (1), deficient (1022)) -> 0\n",
            "(austen (4), 1811 (5)) -> 1\n",
            "(jane (3), hop (2089)) -> 0\n",
            "(sensibility (2), austen (4)) -> 1\n",
            "(austen (4), sensibility (2)) -> 1\n",
            "(austen (4), becomingly (9656)) -> 0\n",
            "(austen (4), solicitation (5286)) -> 0\n",
            "(sensibility (2), jane (3)) -> 1\n",
            "(sensibility (2), frightened (2555)) -> 0\n",
            "(sense (1), remorse (5665)) -> 0\n",
            "(jane (3), labour (3831)) -> 0\n",
            "(1811 (5), remembering (3540)) -> 0\n",
            "(austen (4), spectacles (7702)) -> 0\n",
            "(1811 (5), sensibility (2)) -> 1\n",
            "(sensibility (2), print (3042)) -> 0\n",
            "(1811 (5), infirm (1803)) -> 0\n",
            "(sensibility (2), sack (7721)) -> 0\n",
            "(jane (3), sensibility (2)) -> 1\n",
            "(jane (3), austen (4)) -> 1\n",
            "(1811 (5), thankfulness (8783)) -> 0\n",
            "(1811 (5), sense (1)) -> 1\n",
            "(sensibility (2), engross (3317)) -> 0\n",
            "(jane (3), answer (495)) -> 0\n",
            "(1811 (5), spared (2192)) -> 0\n",
            "(1811 (5), austen (4)) -> 1\n",
            "(sense (1), austen (4)) -> 1\n",
            "(sense (1), softener (3734)) -> 0\n",
            "(sensibility (2), 1811 (5)) -> 1\n",
            "(sense (1), 1811 (5)) -> 1\n",
            "(jane (3), scrupulous (4919)) -> 0\n",
            "(1811 (5), jane (3)) -> 1\n",
            "(jane (3), sense (1)) -> 1\n",
            "(austen (4), sense (1)) -> 1\n",
            "(sense (1), cap (2098)) -> 0\n",
            "(austen (4), jane (3)) -> 1\n",
            "(sense (1), sensibility (2)) -> 1\n",
            "(austen (4), autumnal (9093)) -> 0\n",
            "(sense (1), jane (3)) -> 1\n",
            "(jane (3), 1811 (5)) -> 1\n"
          ],
          "name": "stdout"
        }
      ]
    },
    {
      "cell_type": "markdown",
      "metadata": {
        "id": "oubBMZW1YxFg",
        "colab_type": "text"
      },
      "source": [
        "**5. Building the Skip-gram Neural Network Architecture**"
      ]
    },
    {
      "cell_type": "code",
      "metadata": {
        "id": "gI_pzCZ8Y1h6",
        "colab_type": "code",
        "colab": {}
      },
      "source": [
        "from keras.layers import Dot, Input\n",
        "from keras.layers.core import Dense, Reshape\n",
        "from keras.layers.embeddings import Embedding\n",
        "from keras.models import Model\n",
        "from keras.utils import plot_model"
      ],
      "execution_count": 0,
      "outputs": []
    },
    {
      "cell_type": "markdown",
      "metadata": {
        "id": "YkoTZ6KtZjkb",
        "colab_type": "text"
      },
      "source": [
        "A. The first step is to initialize and transform the first input using the following lines of code:"
      ]
    },
    {
      "cell_type": "code",
      "metadata": {
        "id": "fDx1W2ESY9sj",
        "colab_type": "code",
        "colab": {
          "base_uri": "https://localhost:8080/",
          "height": 143
        },
        "outputId": "1dce1adc-42b2-4d33-b07a-6e38ec26bc65"
      },
      "source": [
        "# The input is an array of target indices e.g. [2, 45, 7, 23,...9]\n",
        "target_word = Input((1,), dtype='int32')\n",
        "\n",
        "# feed the words into the model using the Keras <Embedding> layer. This is the hidden layer from whose weights we will get the word embeddings \n",
        "target_embedding = Embedding(vocab_size, embed_size, name='target_embed_layer',\n",
        "embeddings_initializer='glorot_uniform',\n",
        "input_length=1)(target_word)\n",
        "\n",
        "# at this point, the input would of the shape (num_inputs x 1 x embed_size) and has to be flattened or reshaped into a (num_inputs x embed_size) tensor.\n",
        "target_input = Reshape((embed_size, ))(target_embedding)\n"
      ],
      "execution_count": 8,
      "outputs": [
        {
          "output_type": "stream",
          "text": [
            "WARNING:tensorflow:From /usr/local/lib/python3.6/dist-packages/keras/backend/tensorflow_backend.py:66: The name tf.get_default_graph is deprecated. Please use tf.compat.v1.get_default_graph instead.\n",
            "\n",
            "WARNING:tensorflow:From /usr/local/lib/python3.6/dist-packages/keras/backend/tensorflow_backend.py:541: The name tf.placeholder is deprecated. Please use tf.compat.v1.placeholder instead.\n",
            "\n",
            "WARNING:tensorflow:From /usr/local/lib/python3.6/dist-packages/keras/backend/tensorflow_backend.py:4432: The name tf.random_uniform is deprecated. Please use tf.random.uniform instead.\n",
            "\n"
          ],
          "name": "stdout"
        }
      ]
    },
    {
      "cell_type": "markdown",
      "metadata": {
        "id": "cRUTgcUraOXm",
        "colab_type": "text"
      },
      "source": [
        "**B. Write similar code for the ‘context_word’ input.**"
      ]
    },
    {
      "cell_type": "code",
      "metadata": {
        "id": "47uTmhSQaSCY",
        "colab_type": "code",
        "colab": {}
      },
      "source": [
        "# repeat the same for the context word\n",
        "context_word = Input((1,), dtype='int32')\n",
        "context_embedding = Embedding(vocab_size, embed_size, name='context_embed_layer', \\\n",
        "embeddings_initializer='glorot_uniform', \\\n",
        "input_length=1)(context_word)\n",
        "context_input = Reshape((embed_size, ))(context_embedding)"
      ],
      "execution_count": 0,
      "outputs": []
    },
    {
      "cell_type": "markdown",
      "metadata": {
        "id": "56S4PsR_bEcM",
        "colab_type": "text"
      },
      "source": [
        "**C. Merge the inputs.**"
      ]
    },
    {
      "cell_type": "code",
      "metadata": {
        "id": "XLYqSfzEbHqA",
        "colab_type": "code",
        "colab": {}
      },
      "source": [
        "merged_inputs = Dot(axes=-1, normalize=False)([target_input, context_input])"
      ],
      "execution_count": 0,
      "outputs": []
    },
    {
      "cell_type": "markdown",
      "metadata": {
        "id": "96-SYkxQbWM0",
        "colab_type": "text"
      },
      "source": [
        "# **D & E and F. Pass the merged inputs into sigmoid activated layer, Initialize the model, Compile the Model**"
      ]
    },
    {
      "cell_type": "code",
      "metadata": {
        "id": "Sd02gZBubTuh",
        "colab_type": "code",
        "colab": {
          "base_uri": "https://localhost:8080/",
          "height": 72
        },
        "outputId": "023638d0-b396-42c1-b2ff-981afd49f893"
      },
      "source": [
        "label = Dense(1,activation='sigmoid')(merged_inputs)\n",
        "model = Model(inputs=[target_word, context_word], outputs=[label])\n",
        "model.compile(loss='mean_squared_error', optimizer='rmsprop')"
      ],
      "execution_count": 11,
      "outputs": [
        {
          "output_type": "stream",
          "text": [
            "WARNING:tensorflow:From /usr/local/lib/python3.6/dist-packages/keras/optimizers.py:793: The name tf.train.Optimizer is deprecated. Please use tf.compat.v1.train.Optimizer instead.\n",
            "\n"
          ],
          "name": "stdout"
        }
      ]
    },
    {
      "cell_type": "markdown",
      "metadata": {
        "id": "-SCEV0dDTPBj",
        "colab_type": "text"
      },
      "source": [
        "**Sanity check**"
      ]
    },
    {
      "cell_type": "code",
      "metadata": {
        "id": "NrUAKRUvbuJI",
        "colab_type": "code",
        "outputId": "250230cf-5a90-457f-93f0-c1989aa89588",
        "colab": {
          "base_uri": "https://localhost:8080/",
          "height": 478
        }
      },
      "source": [
        "print(\"Sanity Check\")\n",
        "model.summary()"
      ],
      "execution_count": 12,
      "outputs": [
        {
          "output_type": "stream",
          "text": [
            "Sanity Check\n",
            "Model: \"model_1\"\n",
            "__________________________________________________________________________________________________\n",
            "Layer (type)                    Output Shape         Param #     Connected to                     \n",
            "==================================================================================================\n",
            "input_1 (InputLayer)            (None, 1)            0                                            \n",
            "__________________________________________________________________________________________________\n",
            "input_2 (InputLayer)            (None, 1)            0                                            \n",
            "__________________________________________________________________________________________________\n",
            "target_embed_layer (Embedding)  (None, 1, 100)       1011700     input_1[0][0]                    \n",
            "__________________________________________________________________________________________________\n",
            "context_embed_layer (Embedding) (None, 1, 100)       1011700     input_2[0][0]                    \n",
            "__________________________________________________________________________________________________\n",
            "reshape_1 (Reshape)             (None, 100)          0           target_embed_layer[0][0]         \n",
            "__________________________________________________________________________________________________\n",
            "reshape_2 (Reshape)             (None, 100)          0           context_embed_layer[0][0]        \n",
            "__________________________________________________________________________________________________\n",
            "dot_1 (Dot)                     (None, 1)            0           reshape_1[0][0]                  \n",
            "                                                                 reshape_2[0][0]                  \n",
            "__________________________________________________________________________________________________\n",
            "dense_1 (Dense)                 (None, 1)            2           dot_1[0][0]                      \n",
            "==================================================================================================\n",
            "Total params: 2,023,402\n",
            "Trainable params: 2,023,402\n",
            "Non-trainable params: 0\n",
            "__________________________________________________________________________________________________\n"
          ],
          "name": "stdout"
        }
      ]
    },
    {
      "cell_type": "code",
      "metadata": {
        "id": "TlV2TIVEURMv",
        "colab_type": "code",
        "outputId": "35f11521-2062-40d1-d957-494e739c33c5",
        "colab": {
          "base_uri": "https://localhost:8080/",
          "height": 533
        }
      },
      "source": [
        "plot_model(model, to_file='skipgram_keras.jpg', show_shapes=True, show_layer_names=True,\n",
        "rankdir='TB')"
      ],
      "execution_count": 13,
      "outputs": [
        {
          "output_type": "execute_result",
          "data": {
            "image/jpeg": "[encoded data removed]",
            "text/plain": [
              "<IPython.core.display.Image object>"
            ]
          },
          "metadata": {
            "tags": []
          },
          "execution_count": 13
        }
      ]
    },
    {
      "cell_type": "markdown",
      "metadata": {
        "id": "jVMOppR2d3J7",
        "colab_type": "text"
      },
      "source": [
        "**6. Training the Model**"
      ]
    },
    {
      "cell_type": "code",
      "metadata": {
        "id": "gS-edIS3d-yP",
        "colab_type": "code",
        "outputId": "2988c506-ad02-4b56-f447-615debf2199c",
        "colab": {
          "base_uri": "https://localhost:8080/",
          "height": 854
        }
      },
      "source": [
        "for epoch in range(1, 6):\n",
        "  epoch_loss = 0\n",
        "  # in each epoch, train all the sentences, one per iteration=> batch_size = num_sents\n",
        "  for i, sent_examples in enumerate(skip_grams):\n",
        "      target_wds = np.array([pair[0] for pair in sent_examples[0]], dtype='int32')\n",
        "      context_wds = np.array([pair[1] for pair in sent_examples[0]], dtype='int32')\n",
        "      labels = np.array(sent_examples[1], dtype='int32')\n",
        "      X = [target_wds, context_wds]\n",
        "      Y = labels\n",
        "      if i % 5000 == 0: # after 5000 sentences i.e. 5000 iterations\n",
        "        print('Processed %d sentences' %i)\n",
        "      epoch_loss += model.train_on_batch(X, Y)\n",
        "  print('Processed all %d sentences' %i)\n",
        "  print('Epoch:', epoch, 'Loss:', epoch_loss, '\\n')"
      ],
      "execution_count": 14,
      "outputs": [
        {
          "output_type": "stream",
          "text": [
            "Processed 0 sentences\n",
            "WARNING:tensorflow:From /usr/local/lib/python3.6/dist-packages/keras/backend/tensorflow_backend.py:1033: The name tf.assign_add is deprecated. Please use tf.compat.v1.assign_add instead.\n",
            "\n",
            "WARNING:tensorflow:From /usr/local/lib/python3.6/dist-packages/keras/backend/tensorflow_backend.py:1020: The name tf.assign is deprecated. Please use tf.compat.v1.assign instead.\n",
            "\n",
            "WARNING:tensorflow:From /usr/local/lib/python3.6/dist-packages/keras/backend/tensorflow_backend.py:3005: The name tf.Session is deprecated. Please use tf.compat.v1.Session instead.\n",
            "\n",
            "WARNING:tensorflow:From /usr/local/lib/python3.6/dist-packages/keras/backend/tensorflow_backend.py:190: The name tf.get_default_session is deprecated. Please use tf.compat.v1.get_default_session instead.\n",
            "\n",
            "WARNING:tensorflow:From /usr/local/lib/python3.6/dist-packages/keras/backend/tensorflow_backend.py:197: The name tf.ConfigProto is deprecated. Please use tf.compat.v1.ConfigProto instead.\n",
            "\n",
            "WARNING:tensorflow:From /usr/local/lib/python3.6/dist-packages/keras/backend/tensorflow_backend.py:207: The name tf.global_variables is deprecated. Please use tf.compat.v1.global_variables instead.\n",
            "\n",
            "WARNING:tensorflow:From /usr/local/lib/python3.6/dist-packages/keras/backend/tensorflow_backend.py:216: The name tf.is_variable_initialized is deprecated. Please use tf.compat.v1.is_variable_initialized instead.\n",
            "\n",
            "WARNING:tensorflow:From /usr/local/lib/python3.6/dist-packages/keras/backend/tensorflow_backend.py:223: The name tf.variables_initializer is deprecated. Please use tf.compat.v1.variables_initializer instead.\n",
            "\n",
            "Processed 5000 sentences\n",
            "Processed 10000 sentences\n",
            "Processed all 13922 sentences\n",
            "Epoch: 1 Loss: 3251.09830956161 \n",
            "\n",
            "Processed 0 sentences\n",
            "Processed 5000 sentences\n",
            "Processed 10000 sentences\n",
            "Processed all 13922 sentences\n",
            "Epoch: 2 Loss: 1831.3825360080227 \n",
            "\n",
            "Processed 0 sentences\n",
            "Processed 5000 sentences\n",
            "Processed 10000 sentences\n",
            "Processed all 13922 sentences\n",
            "Epoch: 3 Loss: 849.629506499803 \n",
            "\n",
            "Processed 0 sentences\n",
            "Processed 5000 sentences\n",
            "Processed 10000 sentences\n",
            "Processed all 13922 sentences\n",
            "Epoch: 4 Loss: 427.24687919966766 \n",
            "\n",
            "Processed 0 sentences\n",
            "Processed 5000 sentences\n",
            "Processed 10000 sentences\n",
            "Processed all 13922 sentences\n",
            "Epoch: 5 Loss: 217.04885299797854 \n",
            "\n"
          ],
          "name": "stdout"
        }
      ]
    },
    {
      "cell_type": "markdown",
      "metadata": {
        "id": "1qdv7VqlXcsA",
        "colab_type": "text"
      },
      "source": [
        "**7. Getting the Word Embeddings**"
      ]
    },
    {
      "cell_type": "code",
      "metadata": {
        "id": "O2iLXptIXekF",
        "colab_type": "code",
        "colab": {}
      },
      "source": [
        "# Get the word embeddings by getting the weights of the embed layer\n",
        "word_embeddings = model.get_layer('target_embed_layer').get_weights()[0][1:]"
      ],
      "execution_count": 0,
      "outputs": []
    },
    {
      "cell_type": "code",
      "metadata": {
        "id": "SDndt1p7X4v2",
        "colab_type": "code",
        "colab": {
          "base_uri": "https://localhost:8080/",
          "height": 265
        },
        "outputId": "e631254f-2cf0-4c77-f8d4-d6d5c645ec96"
      },
      "source": [
        "#Sanity Check:\n",
        "print(word_embeddings.shape)\n",
        "print(DataFrame(word_embeddings, index=idx2word.values()).head(10))"
      ],
      "execution_count": 16,
      "outputs": [
        {
          "output_type": "stream",
          "text": [
            "(10116, 100)\n",
            "                   0         1         2   ...        97        98        99\n",
            "sense        0.013579 -0.008420  0.033331  ...  0.004342 -0.019719  0.013714\n",
            "sensibility  0.003170 -0.005018  0.000417  ...  0.027859  0.025032 -0.022248\n",
            "jane         0.035154 -0.006506  0.026858  ...  0.006656 -0.013060 -0.014342\n",
            "austen      -0.012488  0.000138  0.038270  ...  0.023054 -0.000322 -0.009986\n",
            "1811         0.018664 -0.001807  0.011979  ... -0.006927 -0.026784 -0.027096\n",
            "family       0.008971  0.020014 -0.017384  ...  0.020149 -0.003998  0.010317\n",
            "dashwood     0.002565  0.006985 -0.013858  ... -0.006122 -0.002581 -0.000911\n",
            "long        -0.015415  0.018565  0.029012  ...  0.006482 -0.011379 -0.017190\n",
            "settled     -0.028324 -0.013387  0.015893  ... -0.009528  0.034612 -0.014179\n",
            "sussex      -0.005862 -0.017418  0.004699  ...  0.032625  0.013308 -0.029256\n",
            "\n",
            "[10 rows x 100 columns]\n"
          ],
          "name": "stdout"
        }
      ]
    },
    {
      "cell_type": "markdown",
      "metadata": {
        "id": "qWMjkJAZdI_f",
        "colab_type": "text"
      },
      "source": [
        "**8. Measuring Similarity Between Word Pairs**"
      ]
    },
    {
      "cell_type": "code",
      "metadata": {
        "id": "QEcgrBZBdLg0",
        "colab_type": "code",
        "colab": {}
      },
      "source": [
        "from sklearn.metrics.pairwise import cosine_similarity\n",
        "similarity_matrix = cosine_similarity(word_embeddings)"
      ],
      "execution_count": 0,
      "outputs": []
    },
    {
      "cell_type": "code",
      "metadata": {
        "id": "4RefSqwHdQgP",
        "colab_type": "code",
        "colab": {
          "base_uri": "https://localhost:8080/",
          "height": 34
        },
        "outputId": "c3985479-a349-43f9-f7f1-da3a7c330169"
      },
      "source": [
        "#Check:\n",
        "print(similarity_matrix.shape)"
      ],
      "execution_count": 18,
      "outputs": [
        {
          "output_type": "stream",
          "text": [
            "(10116, 10116)\n"
          ],
          "name": "stdout"
        }
      ]
    },
    {
      "cell_type": "markdown",
      "metadata": {
        "id": "c1Av9hq5qfh2",
        "colab_type": "text"
      },
      "source": [
        "**9. Exploring and Visualizing your Word Embeddings using t-SNE**"
      ]
    },
    {
      "cell_type": "code",
      "metadata": {
        "id": "RNh3mOb3qcvy",
        "colab_type": "code",
        "colab": {
          "base_uri": "https://localhost:8080/",
          "height": 54
        },
        "outputId": "ee7df94b-d0b6-44bb-a327-3af580d9fa4c"
      },
      "source": [
        "# A. Get the most similar words to the search items in the list below\n",
        "search_terms = ['man', 'love', 'hatred', 'woman', 'wisdom', 'kindness', 'god', 'man', 'folly', 'fool']\n",
        "\n",
        "# Get the 5 words most similar to the search terms\n",
        "similar_words = {term: [idx2word[idx]\n",
        "for idx in (-1 * similarity_matrix[word2idx[term]-1]).argsort()[1:6] + 1]\n",
        "for term in search_terms}\n",
        "\n",
        "print(similar_words)"
      ],
      "execution_count": 19,
      "outputs": [
        {
          "output_type": "stream",
          "text": [
            "{'man': ['depriving', 'banker', 'trouble', 'gammon', 'supplies'], 'love': ['kinds', 'chances', 'satisfactions', 'talkative', 'prodigy'], 'hatred': ['replete', 'airy', 'bravado', 'bragge', 'candidates'], 'woman': ['discomfited', 'resort', 'softening', 'nuncheon', 'presentation'], 'wisdom': ['suppositions', 'alienations', 'secondly', 'objected', 'springing'], 'kindness': ['cared', 'abominate', 'unfolding', 'confer', 'incomplete'], 'god': ['covet', 'dullest', 'interfere', 'official', 'lending'], 'folly': ['connivance', 'calculates', 'subordination', 'count', 'dreamt'], 'fool': ['violated', 'recantation', 'shedding', 'crowded', 'sensitive']}\n"
          ],
          "name": "stdout"
        }
      ]
    },
    {
      "cell_type": "code",
      "metadata": {
        "id": "Z7alh89-Dyjq",
        "colab_type": "code",
        "colab": {
          "base_uri": "https://localhost:8080/",
          "height": 483
        },
        "outputId": "88e081d5-37d7-4909-fbdf-f86bd866cfda"
      },
      "source": [
        "# B. Plot the words in the dictionary above using t-SNE\n",
        "tsne = TSNE(perplexity=3, n_components=2, init='pca', n_iter=5000, method='exact')\n",
        "np.set_printoptions(suppress=True)\n",
        "plot_only = 50\n",
        "T = tsne.fit_transform(word_embeddings[:plot_only, :])\n",
        "labels = [idx2word[i+1] for i in range(plot_only)]\n",
        "plt.figure(figsize=(14, 8))\n",
        "plt.scatter(T[:, 0], T[:, 1])\n",
        "for label, x, y in zip(labels, T[:, 0], T[:, 1]):\n",
        "    plt.annotate(label, xy=(x+1, y+1), xytext=(0, 0), textcoords='offset points', ha='right',\n",
        "va='bottom')"
      ],
      "execution_count": 20,
      "outputs": [
        {
          "output_type": "display_data",
          "data": {
            "image/png": "[encoded data removed]",
            "text/plain": [
              "<Figure size 1008x576 with 1 Axes>"
            ]
          },
          "metadata": {
            "tags": []
          }
        }
      ]
    }
  ]
}