{
  "nbformat": 4,
  "nbformat_minor": 0,
  "metadata": {
    "accelerator": "GPU",
    "colab": {
      "name": "lab4(Part_B).ipynb",
      "provenance": [],
      "collapsed_sections": []
    },
    "kernelspec": {
      "name": "python3",
      "display_name": "Python 3"
    },
    "language_info": {
      "codemirror_mode": {
        "name": "ipython",
        "version": 3
      },
      "file_extension": ".py",
      "mimetype": "text/x-python",
      "name": "python",
      "nbconvert_exporter": "python",
      "pygments_lexer": "ipython3",
      "version": "3.7.3"
    }
  },
  "cells": [
    {
      "cell_type": "markdown",
      "metadata": {
        "colab_type": "text",
        "id": "hExKCzh6doIW"
      },
      "source": [
        "# Lab 4 - Neural Network Classifier Using Simple Word Embeddings\n",
        "\n",
        "\n",
        "\n",
        "---\n",
        "\n",
        "\n",
        "\n",
        "\n",
        "\n",
        "\n",
        "\n",
        "\n",
        "\n",
        "\n",
        "\n",
        "\n",
        "\n"
      ]
    },
    {
      "cell_type": "markdown",
      "metadata": {
        "colab_type": "text",
        "id": "HixoFOoCIJ7V"
      },
      "source": [
        "In this session, we demonstrate how to solve a text classification task using simple \n",
        "feedforward neural network classifier. We will use IMDB Large Movie Review Dataset to train a binary classification model, able to predict whether a review is positive or negative. First, our network takes one-hot word vectors as input, averages them to make one vector and trains a \n",
        "fully-connected layer to predict the output. In the second part, we replace the one-hot vectors with the word embeddings and add a layer to see how much that improves the performance.\n",
        "\n",
        "We are going to use Keras Sequential API in this session. The Sequential API allows you to make models layer-by-layer. But it is not straightforward to define models where layers connect to more than just the previous and next layers. "
      ]
    },
    {
      "cell_type": "code",
      "metadata": {
        "id": "YDIoJUP-DShj",
        "colab_type": "code",
        "outputId": "b813b0bc-4f4e-455d-e97c-bf5d378754a8",
        "colab": {
          "base_uri": "https://localhost:8080/",
          "height": 228
        }
      },
      "source": [
        "!pip install chakin"
      ],
      "execution_count": 1,
      "outputs": [
        {
          "output_type": "stream",
          "text": [
            "Collecting chakin\n",
            "  Downloading https://files.pythonhosted.org/packages/ca/3f/ca2f63451c0ab47970a6ab1d39d96118e70b6e73125529cea767c31368a3/chakin-0.0.8-py3-none-any.whl\n",
            "Requirement already satisfied: progressbar2>=3.20.0 in /usr/local/lib/python3.6/dist-packages (from chakin) (3.38.0)\n",
            "Requirement already satisfied: six>=1.10.0 in /usr/local/lib/python3.6/dist-packages (from chakin) (1.12.0)\n",
            "Requirement already satisfied: pandas>=0.20.1 in /usr/local/lib/python3.6/dist-packages (from chakin) (0.25.3)\n",
            "Requirement already satisfied: python-utils>=2.3.0 in /usr/local/lib/python3.6/dist-packages (from progressbar2>=3.20.0->chakin) (2.3.0)\n",
            "Requirement already satisfied: pytz>=2017.2 in /usr/local/lib/python3.6/dist-packages (from pandas>=0.20.1->chakin) (2018.9)\n",
            "Requirement already satisfied: python-dateutil>=2.6.1 in /usr/local/lib/python3.6/dist-packages (from pandas>=0.20.1->chakin) (2.6.1)\n",
            "Requirement already satisfied: numpy>=1.13.3 in /usr/local/lib/python3.6/dist-packages (from pandas>=0.20.1->chakin) (1.17.5)\n",
            "Installing collected packages: chakin\n",
            "Successfully installed chakin-0.0.8\n"
          ],
          "name": "stdout"
        }
      ]
    },
    {
      "cell_type": "code",
      "metadata": {
        "colab_type": "code",
        "id": "m8fpBfhBpupy",
        "outputId": "0307219a-5b3b-46c8-870c-e0c9b4680335",
        "colab": {
          "base_uri": "https://localhost:8080/",
          "height": 359
        }
      },
      "source": [
        "import keras\n",
        "import numpy as np\n",
        "from keras.layers import Lambda, GlobalAveragePooling1D, Dense, Embedding\n",
        "from keras import backend as K\n",
        "from keras.models import Sequential\n",
        "import chakin\n",
        "\n",
        "chakin.search(lang='English')"
      ],
      "execution_count": 2,
      "outputs": [
        {
          "output_type": "stream",
          "text": [
            "Using TensorFlow backend.\n"
          ],
          "name": "stderr"
        },
        {
          "output_type": "display_data",
          "data": {
            "text/html": [
              "<p style=\"color: red;\">\n",
              "The default version of TensorFlow in Colab will soon switch to TensorFlow 2.x.<br>\n",
              "We recommend you <a href=\"https://www.tensorflow.org/guide/migrate\" target=\"_blank\">upgrade</a> now \n",
              "or ensure your notebook will continue to use TensorFlow 1.x via the <code>%tensorflow_version 1.x</code> magic:\n",
              "<a href=\"https://colab.research.google.com/notebooks/tensorflow_version.ipynb\" target=\"_blank\">more info</a>.</p>\n"
            ],
            "text/plain": [
              "<IPython.core.display.HTML object>"
            ]
          },
          "metadata": {
            "tags": []
          }
        },
        {
          "output_type": "stream",
          "text": [
            "                   Name  Dimension  ... Language    Author\n",
            "2          fastText(en)        300  ...  English  Facebook\n",
            "11         GloVe.6B.50d         50  ...  English  Stanford\n",
            "12        GloVe.6B.100d        100  ...  English  Stanford\n",
            "13        GloVe.6B.200d        200  ...  English  Stanford\n",
            "14        GloVe.6B.300d        300  ...  English  Stanford\n",
            "15       GloVe.42B.300d        300  ...  English  Stanford\n",
            "16      GloVe.840B.300d        300  ...  English  Stanford\n",
            "17    GloVe.Twitter.25d         25  ...  English  Stanford\n",
            "18    GloVe.Twitter.50d         50  ...  English  Stanford\n",
            "19   GloVe.Twitter.100d        100  ...  English  Stanford\n",
            "20   GloVe.Twitter.200d        200  ...  English  Stanford\n",
            "21  word2vec.GoogleNews        300  ...  English    Google\n",
            "\n",
            "[12 rows x 7 columns]\n"
          ],
          "name": "stdout"
        }
      ]
    },
    {
      "cell_type": "markdown",
      "metadata": {
        "colab_type": "text",
        "id": "cqvPQvgvPv1W"
      },
      "source": [
        "### Downloading data"
      ]
    },
    {
      "cell_type": "markdown",
      "metadata": {
        "colab_type": "text",
        "id": "EundMtGPpCdf"
      },
      "source": [
        "The dataset we will be using is the IMDB Large Movie Review Dataset, which consists of 50000 labeled movie reviews. These are split into 25,000 reviews for training and 25,000 reviews for testing. The  dataset contains an even number of positive and negative reviews, so randomly guessing yields 50% accuracy. The data is preprocessed. For text classification, it is ususal to limit the size of the vocabulary to stop the dataset from becoming too sparse, creating possible overfitting. We keep the top 10,000 most frequently occurring words in the training data.\n"
      ]
    },
    {
      "cell_type": "code",
      "metadata": {
        "colab_type": "code",
        "id": "NyuSzkafqNca",
        "colab": {
          "base_uri": "https://localhost:8080/",
          "height": 52
        },
        "outputId": "cbf0751a-ad98-4fd7-851f-f93ca569b3d9"
      },
      "source": [
        "imdb = keras.datasets.imdb\n",
        "(X_train, y_train), (X_test, y_test) = imdb.load_data(num_words=10000)"
      ],
      "execution_count": 3,
      "outputs": [
        {
          "output_type": "stream",
          "text": [
            "Downloading data from https://s3.amazonaws.com/text-datasets/imdb.npz\n",
            "17465344/17464789 [==============================] - 3s 0us/step\n"
          ],
          "name": "stdout"
        }
      ]
    },
    {
      "cell_type": "markdown",
      "metadata": {
        "colab_type": "text",
        "id": "6U4iCV9-rmay"
      },
      "source": [
        "We now can start playing around with the data, let’s first see the length:"
      ]
    },
    {
      "cell_type": "code",
      "metadata": {
        "colab_type": "code",
        "id": "h-gjWRAuqg5s",
        "outputId": "982e26bc-37f1-4e25-a311-96aa79e1561b",
        "colab": {
          "base_uri": "https://localhost:8080/",
          "height": 34
        }
      },
      "source": [
        "print(\"Training entries: {}, labels: {}\".format(len(X_train), len(y_train)))"
      ],
      "execution_count": 4,
      "outputs": [
        {
          "output_type": "stream",
          "text": [
            "Training entries: 25000, labels: 25000\n"
          ],
          "name": "stdout"
        }
      ]
    },
    {
      "cell_type": "markdown",
      "metadata": {
        "colab_type": "text",
        "id": "MTRZrpcyr-4x"
      },
      "source": [
        "The  reviews have been converted to integers and each integer represents a  word in a dictionary. "
      ]
    },
    {
      "cell_type": "code",
      "metadata": {
        "colab_type": "code",
        "id": "79Ev72Kgq4XL",
        "outputId": "9072752b-c36d-49e1-aca6-2bd0c41f575f",
        "colab": {
          "base_uri": "https://localhost:8080/",
          "height": 1000
        }
      },
      "source": [
        " X_train[0]"
      ],
      "execution_count": 5,
      "outputs": [
        {
          "output_type": "execute_result",
          "data": {
            "text/plain": [
              "[1,\n",
              " 14,\n",
              " 22,\n",
              " 16,\n",
              " 43,\n",
              " 530,\n",
              " 973,\n",
              " 1622,\n",
              " 1385,\n",
              " 65,\n",
              " 458,\n",
              " 4468,\n",
              " 66,\n",
              " 3941,\n",
              " 4,\n",
              " 173,\n",
              " 36,\n",
              " 256,\n",
              " 5,\n",
              " 25,\n",
              " 100,\n",
              " 43,\n",
              " 838,\n",
              " 112,\n",
              " 50,\n",
              " 670,\n",
              " 2,\n",
              " 9,\n",
              " 35,\n",
              " 480,\n",
              " 284,\n",
              " 5,\n",
              " 150,\n",
              " 4,\n",
              " 172,\n",
              " 112,\n",
              " 167,\n",
              " 2,\n",
              " 336,\n",
              " 385,\n",
              " 39,\n",
              " 4,\n",
              " 172,\n",
              " 4536,\n",
              " 1111,\n",
              " 17,\n",
              " 546,\n",
              " 38,\n",
              " 13,\n",
              " 447,\n",
              " 4,\n",
              " 192,\n",
              " 50,\n",
              " 16,\n",
              " 6,\n",
              " 147,\n",
              " 2025,\n",
              " 19,\n",
              " 14,\n",
              " 22,\n",
              " 4,\n",
              " 1920,\n",
              " 4613,\n",
              " 469,\n",
              " 4,\n",
              " 22,\n",
              " 71,\n",
              " 87,\n",
              " 12,\n",
              " 16,\n",
              " 43,\n",
              " 530,\n",
              " 38,\n",
              " 76,\n",
              " 15,\n",
              " 13,\n",
              " 1247,\n",
              " 4,\n",
              " 22,\n",
              " 17,\n",
              " 515,\n",
              " 17,\n",
              " 12,\n",
              " 16,\n",
              " 626,\n",
              " 18,\n",
              " 2,\n",
              " 5,\n",
              " 62,\n",
              " 386,\n",
              " 12,\n",
              " 8,\n",
              " 316,\n",
              " 8,\n",
              " 106,\n",
              " 5,\n",
              " 4,\n",
              " 2223,\n",
              " 5244,\n",
              " 16,\n",
              " 480,\n",
              " 66,\n",
              " 3785,\n",
              " 33,\n",
              " 4,\n",
              " 130,\n",
              " 12,\n",
              " 16,\n",
              " 38,\n",
              " 619,\n",
              " 5,\n",
              " 25,\n",
              " 124,\n",
              " 51,\n",
              " 36,\n",
              " 135,\n",
              " 48,\n",
              " 25,\n",
              " 1415,\n",
              " 33,\n",
              " 6,\n",
              " 22,\n",
              " 12,\n",
              " 215,\n",
              " 28,\n",
              " 77,\n",
              " 52,\n",
              " 5,\n",
              " 14,\n",
              " 407,\n",
              " 16,\n",
              " 82,\n",
              " 2,\n",
              " 8,\n",
              " 4,\n",
              " 107,\n",
              " 117,\n",
              " 5952,\n",
              " 15,\n",
              " 256,\n",
              " 4,\n",
              " 2,\n",
              " 7,\n",
              " 3766,\n",
              " 5,\n",
              " 723,\n",
              " 36,\n",
              " 71,\n",
              " 43,\n",
              " 530,\n",
              " 476,\n",
              " 26,\n",
              " 400,\n",
              " 317,\n",
              " 46,\n",
              " 7,\n",
              " 4,\n",
              " 2,\n",
              " 1029,\n",
              " 13,\n",
              " 104,\n",
              " 88,\n",
              " 4,\n",
              " 381,\n",
              " 15,\n",
              " 297,\n",
              " 98,\n",
              " 32,\n",
              " 2071,\n",
              " 56,\n",
              " 26,\n",
              " 141,\n",
              " 6,\n",
              " 194,\n",
              " 7486,\n",
              " 18,\n",
              " 4,\n",
              " 226,\n",
              " 22,\n",
              " 21,\n",
              " 134,\n",
              " 476,\n",
              " 26,\n",
              " 480,\n",
              " 5,\n",
              " 144,\n",
              " 30,\n",
              " 5535,\n",
              " 18,\n",
              " 51,\n",
              " 36,\n",
              " 28,\n",
              " 224,\n",
              " 92,\n",
              " 25,\n",
              " 104,\n",
              " 4,\n",
              " 226,\n",
              " 65,\n",
              " 16,\n",
              " 38,\n",
              " 1334,\n",
              " 88,\n",
              " 12,\n",
              " 16,\n",
              " 283,\n",
              " 5,\n",
              " 16,\n",
              " 4472,\n",
              " 113,\n",
              " 103,\n",
              " 32,\n",
              " 15,\n",
              " 16,\n",
              " 5345,\n",
              " 19,\n",
              " 178,\n",
              " 32]"
            ]
          },
          "metadata": {
            "tags": []
          },
          "execution_count": 5
        }
      ]
    },
    {
      "cell_type": "markdown",
      "metadata": {
        "colab_type": "text",
        "id": "Tvuu4KhStqei"
      },
      "source": [
        "\n",
        "We can convert integers back to words by querying a dictionary object that contains the integer to string mapping:"
      ]
    },
    {
      "cell_type": "code",
      "metadata": {
        "colab_type": "code",
        "id": "gMCH1OoDrSNR",
        "colab": {
          "base_uri": "https://localhost:8080/",
          "height": 52
        },
        "outputId": "5ae1a1ff-c258-42ad-ad17-9b257cdeb911"
      },
      "source": [
        "word_index = imdb.get_word_index()"
      ],
      "execution_count": 6,
      "outputs": [
        {
          "output_type": "stream",
          "text": [
            "Downloading data from https://s3.amazonaws.com/text-datasets/imdb_word_index.json\n",
            "1646592/1641221 [==============================] - 2s 1us/step\n"
          ],
          "name": "stdout"
        }
      ]
    },
    {
      "cell_type": "markdown",
      "metadata": {
        "colab_type": "text",
        "id": "5IreFXgruZot"
      },
      "source": [
        "Index 1 represents the beginning of the sentence and the index 2 is assigned to all unknown tokens. Index 0 will be used for padding."
      ]
    },
    {
      "cell_type": "code",
      "metadata": {
        "colab_type": "code",
        "id": "abIb7Fe5u3GQ",
        "colab": {}
      },
      "source": [
        "word_index = {k:(v+3) for k,v in word_index.items()}\n",
        "word_index[\"<PAD>\"] = 0\n",
        "word_index[\"<START>\"] = 1\n",
        "word_index[\"<UNK>\"] = 2  \n",
        "word_index[\"<UNUSED>\"] = 3"
      ],
      "execution_count": 0,
      "outputs": []
    },
    {
      "cell_type": "markdown",
      "metadata": {
        "colab_type": "text",
        "id": "9TnnSuspvC5b"
      },
      "source": [
        "To reverse key and values in a dictionary:"
      ]
    },
    {
      "cell_type": "code",
      "metadata": {
        "colab_type": "code",
        "id": "nKOiVVXQu-_I",
        "colab": {}
      },
      "source": [
        "reverse_word_index = dict([(value, key) for (key, value) in word_index.items()])"
      ],
      "execution_count": 0,
      "outputs": []
    },
    {
      "cell_type": "markdown",
      "metadata": {
        "colab_type": "text",
        "id": "ZmTJEm8xvUvW"
      },
      "source": [
        "To view a word:"
      ]
    },
    {
      "cell_type": "code",
      "metadata": {
        "colab_type": "code",
        "id": "SqN5jgVKvJJZ",
        "outputId": "3f56957f-7b09-4164-9e21-ab51865814d0",
        "colab": {
          "base_uri": "https://localhost:8080/",
          "height": 34
        }
      },
      "source": [
        "reverse_word_index[25]"
      ],
      "execution_count": 9,
      "outputs": [
        {
          "output_type": "execute_result",
          "data": {
            "text/plain": [
              "'you'"
            ]
          },
          "metadata": {
            "tags": []
          },
          "execution_count": 9
        }
      ]
    },
    {
      "cell_type": "markdown",
      "metadata": {
        "colab_type": "text",
        "id": "Q6QjrzgVvrYn"
      },
      "source": [
        "And to recreate the whole sentence from our training data we define decode_review:\n"
      ]
    },
    {
      "cell_type": "code",
      "metadata": {
        "colab_type": "code",
        "id": "wvrKeMgxvWlv",
        "colab": {}
      },
      "source": [
        "def decode_review(text):\n",
        "    return ' '.join([reverse_word_index.get(i, '?') for i in text])"
      ],
      "execution_count": 0,
      "outputs": []
    },
    {
      "cell_type": "code",
      "metadata": {
        "colab_type": "code",
        "id": "Sxg4YA_NvdRg",
        "outputId": "c7ff1a71-94f6-4abf-e96f-e606febf3089",
        "colab": {
          "base_uri": "https://localhost:8080/",
          "height": 54
        }
      },
      "source": [
        "decode_review(X_train[10])"
      ],
      "execution_count": 11,
      "outputs": [
        {
          "output_type": "execute_result",
          "data": {
            "text/plain": [
              "\"<START> french horror cinema has seen something of a revival over the last couple of years with great films such as inside and <UNK> romance <UNK> on to the scene <UNK> <UNK> the revival just slightly but stands head and shoulders over most modern horror titles and is surely one of the best french horror films ever made <UNK> was obviously shot on a low budget but this is made up for in far more ways than one by the originality of the film and this in turn is <UNK> by the excellent writing and acting that ensure the film is a winner the plot focuses on two main ideas prison and black magic the central character is a man named <UNK> sent to prison for fraud he is put in a cell with three others the quietly insane <UNK> body building <UNK> marcus and his retarded boyfriend daisy after a short while in the cell together they stumble upon a hiding place in the wall that contains an old <UNK> after <UNK> part of it they soon realise its magical powers and realise they may be able to use it to break through the prison walls br br black magic is a very interesting topic and i'm actually quite surprised that there aren't more films based on it as there's so much scope for things to do with it it's fair to say that <UNK> makes the best of it's <UNK> as despite it's <UNK> the film never actually feels restrained and manages to flow well throughout director eric <UNK> provides a great atmosphere for the film the fact that most of it takes place inside the central prison cell <UNK> that the film feels very claustrophobic and this immensely benefits the central idea of the prisoners wanting to use magic to break out of the cell it's very easy to get behind them it's often said that the unknown is the thing that really <UNK> people and this film proves that as the director <UNK> that we can never really be sure of exactly what is round the corner and this helps to ensure that <UNK> actually does manage to be quite frightening the film is memorable for a lot of reasons outside the central plot the characters are all very interesting in their own way and the fact that the book itself almost takes on its own character is very well done anyone worried that the film won't deliver by the end won't be disappointed either as the ending both makes sense and manages to be quite horrifying overall <UNK> is a truly great horror film and one of the best of the decade highly recommended viewing\""
            ]
          },
          "metadata": {
            "tags": []
          },
          "execution_count": 11
        }
      ]
    },
    {
      "cell_type": "markdown",
      "metadata": {
        "colab_type": "text",
        "id": "c8gIzXncfaJK"
      },
      "source": [
        "### Creating One-hot word vectors"
      ]
    },
    {
      "cell_type": "markdown",
      "metadata": {
        "colab_type": "text",
        "id": "B9W4yb3rv_E0"
      },
      "source": [
        "It is  common to use one-hot representation as input in Natural Language Processing tasks. In Keras, the Embedding layer takes an index as an input and convert it to one-hot vector with the length of the vocabulary size. Then multiplies these vectors by a normal weight matrix. But there is no way to only get a one-hot vector as the output of a layer in Keras. To solve this we use Lambda() layer and a function that creates the one-hot layer. "
      ]
    },
    {
      "cell_type": "code",
      "metadata": {
        "colab_type": "code",
        "id": "RPO_pK9zH4C5",
        "colab": {}
      },
      "source": [
        "def OneHot(input_dim=None, input_length=None):\n",
        "    \n",
        "    if input_dim is None or input_length is None:\n",
        "        raise TypeError(\"input_dim or input_length is not set\")\n",
        "\n",
        "    \n",
        "    def _one_hot(x, num_classes):\n",
        "        return K.one_hot(K.cast(x, 'uint8'),\n",
        "                          num_classes=num_classes)\n",
        "\n",
        "    return Lambda(_one_hot,\n",
        "                  arguments={'num_classes': input_dim},\n",
        "                  input_shape=(input_length,))"
      ],
      "execution_count": 0,
      "outputs": []
    },
    {
      "cell_type": "markdown",
      "metadata": {
        "colab_type": "text",
        "id": "364d3MAw0ez9"
      },
      "source": [
        "input_dim refers to the length of the one-hot vector and input_length refers to the length of the input sequence. Since the input to K.one_hot should be an integer tensor, we cast x to one (Keras passes around float tensors by default).\n",
        "\n"
      ]
    },
    {
      "cell_type": "markdown",
      "metadata": {
        "colab_type": "text",
        "id": "VHz76GNA2M4r"
      },
      "source": [
        " Each text sequence has in most cases different length of words. Here, we fill sequences with a pad token (0) to fit the size. This special tokens is then masked not to be accounted in averaging, loss calculation etc. We set the maximum length to 256."
      ]
    },
    {
      "cell_type": "markdown",
      "metadata": {
        "colab_type": "text",
        "id": "9G_o7PsvgSFt"
      },
      "source": [
        "### Preparing input data"
      ]
    },
    {
      "cell_type": "code",
      "metadata": {
        "colab_type": "code",
        "id": "jiFn7sd_wF5j",
        "colab": {}
      },
      "source": [
        "VOCAB_SIZE = 10000\n",
        "MAX_SEQUENCE_LENGTH = 256\n",
        "\n",
        "X_train_enc = keras.preprocessing.sequence.pad_sequences(X_train,\n",
        "                                                        value=word_index[\"<PAD>\"],\n",
        "                                                        padding='post',\n",
        "                                                        maxlen=256)\n",
        "\n",
        "X_test_enc = keras.preprocessing.sequence.pad_sequences(X_test,\n",
        "                                                       value=word_index[\"<PAD>\"],\n",
        "                                                       padding='post',\n",
        "                                                       maxlen=256)"
      ],
      "execution_count": 0,
      "outputs": []
    },
    {
      "cell_type": "markdown",
      "metadata": {
        "colab_type": "text",
        "id": "kcjFH1wKF_7d"
      },
      "source": [
        "And to view a padded review:"
      ]
    },
    {
      "cell_type": "code",
      "metadata": {
        "colab_type": "code",
        "id": "zwH4dcfW_a18",
        "outputId": "61db9d80-cc0b-45ca-8d72-c26a6c9d4f46",
        "colab": {
          "base_uri": "https://localhost:8080/",
          "height": 364
        }
      },
      "source": [
        "print(X_train_enc[1])\n",
        "print(len(X_train_enc[1]))"
      ],
      "execution_count": 14,
      "outputs": [
        {
          "output_type": "stream",
          "text": [
            "[   1  194 1153  194 8255   78  228    5    6 1463 4369 5012  134   26\n",
            "    4  715    8  118 1634   14  394   20   13  119  954  189  102    5\n",
            "  207  110 3103   21   14   69  188    8   30   23    7    4  249  126\n",
            "   93    4  114    9 2300 1523    5  647    4  116    9   35 8163    4\n",
            "  229    9  340 1322    4  118    9    4  130 4901   19    4 1002    5\n",
            "   89   29  952   46   37    4  455    9   45   43   38 1543 1905  398\n",
            "    4 1649   26 6853    5  163   11 3215    2    4 1153    9  194  775\n",
            "    7 8255    2  349 2637  148  605    2 8003   15  123  125   68    2\n",
            " 6853   15  349  165 4362   98    5    4  228    9   43    2 1157   15\n",
            "  299  120    5  120  174   11  220  175  136   50    9 4373  228 8255\n",
            "    5    2  656  245 2350    5    4 9837  131  152  491   18    2   32\n",
            " 7464 1212   14    9    6  371   78   22  625   64 1382    9    8  168\n",
            "  145   23    4 1690   15   16    4 1355    5   28    6   52  154  462\n",
            "   33   89   78  285   16  145   95    0    0    0    0    0    0    0\n",
            "    0    0    0    0    0    0    0    0    0    0    0    0    0    0\n",
            "    0    0    0    0    0    0    0    0    0    0    0    0    0    0\n",
            "    0    0    0    0    0    0    0    0    0    0    0    0    0    0\n",
            "    0    0    0    0    0    0    0    0    0    0    0    0    0    0\n",
            "    0    0    0    0]\n",
            "256\n"
          ],
          "name": "stdout"
        }
      ]
    },
    {
      "cell_type": "markdown",
      "metadata": {
        "colab_type": "text",
        "id": "F1zcxFwNGepA"
      },
      "source": [
        "Now we want to build the neural network model. We  are going to have a hidden layer with 16 hidden units. \n",
        "\n",
        "First, we want to transform each index to an embedded vector and then average all vectors to a single one. It has been showed that unweighted average of word vectors outperforms many complicated networks that model semantic and syntactic compositionality. As an example you can take a look at this: (http://anthology.aclweb.org/P/P15/P15-1162.pdf)\n",
        "\n",
        "To average we need to ignore padded zeros:"
      ]
    },
    {
      "cell_type": "code",
      "metadata": {
        "colab_type": "code",
        "id": "Yi04MLIvJOGZ",
        "colab": {}
      },
      "source": [
        "class GlobalAveragePooling1DMasked(GlobalAveragePooling1D):\n",
        "    def call(self, x, mask=None):\n",
        "        if mask != None:\n",
        "            return K.sum(x, axis=1) / K.sum(mask, axis=1)\n",
        "        else:\n",
        "            return super().call(x)\n"
      ],
      "execution_count": 0,
      "outputs": []
    },
    {
      "cell_type": "markdown",
      "metadata": {
        "colab_type": "text",
        "id": "whgIIB5ggjna"
      },
      "source": [
        "### Neural Network model using one-hot vectors"
      ]
    },
    {
      "cell_type": "markdown",
      "metadata": {
        "colab_type": "text",
        "id": "jlOLnlnSJgrU"
      },
      "source": [
        "The first layer is an one-hot layer. The second layer is to compute average on all word vectors in a sentence without considering padding. The  output vector is piped through a fully-connected layer. The last layer is connected with a single output node with the sigmoid activation function. The final value is a float between 0 and 1. \n",
        "The vocabulary count of the movie reviews (10000) is used as the input shape. At the end we visualize the model summary."
      ]
    },
    {
      "cell_type": "code",
      "metadata": {
        "colab_type": "code",
        "id": "_Pn83gBbxiK7",
        "outputId": "8f0f7472-5f59-4658-ea5c-d993b3628815",
        "colab": {
          "base_uri": "https://localhost:8080/",
          "height": 419
        }
      },
      "source": [
        "# put your code here\n",
        "model = Sequential()\n",
        "# onehot layer\n",
        "model.add(OneHot(VOCAB_SIZE,MAX_SEQUENCE_LENGTH))\n",
        "# second layer - replaces the standard Flatten() layer\n",
        "model.add(GlobalAveragePooling1DMasked())\n",
        "# Output through a fully-connected layer\n",
        "model.add(Dense(16, activation='relu'))\n",
        "# last layer with single outpot node Sigmoid\n",
        "model.add(Dense(1, activation='sigmoid'))\n",
        "\n",
        "model.summary()"
      ],
      "execution_count": 16,
      "outputs": [
        {
          "output_type": "stream",
          "text": [
            "WARNING:tensorflow:From /usr/local/lib/python3.6/dist-packages/keras/backend/tensorflow_backend.py:66: The name tf.get_default_graph is deprecated. Please use tf.compat.v1.get_default_graph instead.\n",
            "\n",
            "WARNING:tensorflow:From /usr/local/lib/python3.6/dist-packages/keras/backend/tensorflow_backend.py:541: The name tf.placeholder is deprecated. Please use tf.compat.v1.placeholder instead.\n",
            "\n",
            "WARNING:tensorflow:From /usr/local/lib/python3.6/dist-packages/keras/backend/tensorflow_backend.py:4432: The name tf.random_uniform is deprecated. Please use tf.random.uniform instead.\n",
            "\n",
            "Model: \"sequential_1\"\n",
            "_________________________________________________________________\n",
            "Layer (type)                 Output Shape              Param #   \n",
            "=================================================================\n",
            "lambda_1 (Lambda)            (None, 256, 10000)        0         \n",
            "_________________________________________________________________\n",
            "global_average_pooling1d_mas (None, 10000)             0         \n",
            "_________________________________________________________________\n",
            "dense_1 (Dense)              (None, 16)                160016    \n",
            "_________________________________________________________________\n",
            "dense_2 (Dense)              (None, 1)                 17        \n",
            "=================================================================\n",
            "Total params: 160,033\n",
            "Trainable params: 160,033\n",
            "Non-trainable params: 0\n",
            "_________________________________________________________________\n"
          ],
          "name": "stdout"
        }
      ]
    },
    {
      "cell_type": "markdown",
      "metadata": {
        "colab_type": "text",
        "id": "_Mz96xpCgvTj"
      },
      "source": [
        "### Training the model"
      ]
    },
    {
      "cell_type": "markdown",
      "metadata": {
        "colab_type": "text",
        "id": "F3HbW_IKLqwT"
      },
      "source": [
        "To compile the model we need a loss function and an optimizer. We use binary_crossentropy loss function which is just a special case of categorical cross entropy. We also use Adam optimizer that can be used instead of the classical stochastic gradient descent procedure to update network weights iterative based in training data. You can read more about it here:\n",
        "(https://arxiv.org/abs/1412.6980v8\n",
        ")\n"
      ]
    },
    {
      "cell_type": "code",
      "metadata": {
        "colab_type": "code",
        "id": "qh1PWTNMxjUw",
        "outputId": "865fd1a5-07ad-43b0-e845-caa5de8290b5",
        "colab": {
          "base_uri": "https://localhost:8080/",
          "height": 159
        }
      },
      "source": [
        "model.compile(optimizer='adam',\n",
        "              loss='binary_crossentropy',\n",
        "              metrics=['accuracy'])"
      ],
      "execution_count": 17,
      "outputs": [
        {
          "output_type": "stream",
          "text": [
            "WARNING:tensorflow:From /usr/local/lib/python3.6/dist-packages/keras/optimizers.py:793: The name tf.train.Optimizer is deprecated. Please use tf.compat.v1.train.Optimizer instead.\n",
            "\n",
            "WARNING:tensorflow:From /usr/local/lib/python3.6/dist-packages/keras/backend/tensorflow_backend.py:3657: The name tf.log is deprecated. Please use tf.math.log instead.\n",
            "\n",
            "WARNING:tensorflow:From /usr/local/lib/python3.6/dist-packages/tensorflow_core/python/ops/nn_impl.py:183: where (from tensorflow.python.ops.array_ops) is deprecated and will be removed in a future version.\n",
            "Instructions for updating:\n",
            "Use tf.where in 2.0, which has the same broadcast rule as np.where\n"
          ],
          "name": "stdout"
        }
      ]
    },
    {
      "cell_type": "markdown",
      "metadata": {
        "colab_type": "text",
        "id": "E1jwQQqCN5Ia"
      },
      "source": [
        "When training, we want to check the accuracy of the model on data it hasn't seen before. So we create a validation set:"
      ]
    },
    {
      "cell_type": "code",
      "metadata": {
        "colab_type": "code",
        "id": "f5lAqzQlxjSM",
        "colab": {}
      },
      "source": [
        "X_val = np.array(X_train_enc[:10000])\n",
        "partial_X_train = np.array(X_train_enc[10000:])\n",
        "\n",
        "y_val = np.array(y_train[:10000])\n",
        "partial_y_train = np.array(y_train[10000:])"
      ],
      "execution_count": 0,
      "outputs": []
    },
    {
      "cell_type": "code",
      "metadata": {
        "id": "tnRszT0NCC3m",
        "colab_type": "code",
        "outputId": "c41601e0-002a-48c2-9d1d-3fe5054c2c94",
        "colab": {
          "base_uri": "https://localhost:8080/",
          "height": 434
        }
      },
      "source": [
        "partial_X_train[0]"
      ],
      "execution_count": 19,
      "outputs": [
        {
          "output_type": "execute_result",
          "data": {
            "text/plain": [
              "array([   1,   13,  104,   14,    9,   31,    7,    4, 4343,    7,    4,\n",
              "       3776, 3394,    2,  495,  103,  141,   87, 2048,   17,   76,    2,\n",
              "         44,  164,  525,   13,  197,   14,   16,  338,    4,  177,   16,\n",
              "       6118, 5253,    2,    2,    2,   21,   61, 1126,    2,   16,   15,\n",
              "         36, 4621,   19,    4,    2,  157,    5,  605,   46,   49,    7,\n",
              "          4,  297,    8,  276,   11,    4,  621,  837,  844,   10,   10,\n",
              "         25,   43,   92,   81, 2282,    5,   95,  947,   19,    4,  297,\n",
              "        806,   21,   15,    9,   43,  355,   13,  119,   49, 3636, 6951,\n",
              "         43,   40,    4,  375,  415,   21,    2,   92,  947,   19,    4,\n",
              "       2282, 1771,   14,    5,  106,    2, 1151,   48,   25,  181,    8,\n",
              "         67,    6,  530, 9089, 1253,    7,    4,    2,    0,    0,    0,\n",
              "          0,    0,    0,    0,    0,    0,    0,    0,    0,    0,    0,\n",
              "          0,    0,    0,    0,    0,    0,    0,    0,    0,    0,    0,\n",
              "          0,    0,    0,    0,    0,    0,    0,    0,    0,    0,    0,\n",
              "          0,    0,    0,    0,    0,    0,    0,    0,    0,    0,    0,\n",
              "          0,    0,    0,    0,    0,    0,    0,    0,    0,    0,    0,\n",
              "          0,    0,    0,    0,    0,    0,    0,    0,    0,    0,    0,\n",
              "          0,    0,    0,    0,    0,    0,    0,    0,    0,    0,    0,\n",
              "          0,    0,    0,    0,    0,    0,    0,    0,    0,    0,    0,\n",
              "          0,    0,    0,    0,    0,    0,    0,    0,    0,    0,    0,\n",
              "          0,    0,    0,    0,    0,    0,    0,    0,    0,    0,    0,\n",
              "          0,    0,    0,    0,    0,    0,    0,    0,    0,    0,    0,\n",
              "          0,    0,    0,    0,    0,    0,    0,    0,    0,    0,    0,\n",
              "          0,    0,    0], dtype=int32)"
            ]
          },
          "metadata": {
            "tags": []
          },
          "execution_count": 19
        }
      ]
    },
    {
      "cell_type": "markdown",
      "metadata": {
        "colab_type": "text",
        "id": "E8Kpo5G3OJEY"
      },
      "source": [
        "Then we start to train the model for 40 epochs in mini-batches of 512 samples and monitor the model's loss and accuracy on the validation set."
      ]
    },
    {
      "cell_type": "code",
      "metadata": {
        "colab_type": "code",
        "id": "99_z39KAxjPi",
        "outputId": "f21ef83f-2ecf-4663-da80-a65acd6b3602",
        "colab": {
          "base_uri": "https://localhost:8080/",
          "height": 1000
        }
      },
      "source": [
        "history = model.fit(partial_X_train,\n",
        "                    partial_y_train,\n",
        "                    epochs=40,\n",
        "                    batch_size=512,\n",
        "                    validation_data=(X_val, y_val),\n",
        "                    verbose=1)"
      ],
      "execution_count": 20,
      "outputs": [
        {
          "output_type": "stream",
          "text": [
            "WARNING:tensorflow:From /usr/local/lib/python3.6/dist-packages/keras/backend/tensorflow_backend.py:1033: The name tf.assign_add is deprecated. Please use tf.compat.v1.assign_add instead.\n",
            "\n",
            "WARNING:tensorflow:From /usr/local/lib/python3.6/dist-packages/keras/backend/tensorflow_backend.py:1020: The name tf.assign is deprecated. Please use tf.compat.v1.assign instead.\n",
            "\n",
            "WARNING:tensorflow:From /usr/local/lib/python3.6/dist-packages/keras/backend/tensorflow_backend.py:3005: The name tf.Session is deprecated. Please use tf.compat.v1.Session instead.\n",
            "\n",
            "Train on 15000 samples, validate on 10000 samples\n",
            "Epoch 1/40\n",
            "WARNING:tensorflow:From /usr/local/lib/python3.6/dist-packages/keras/backend/tensorflow_backend.py:190: The name tf.get_default_session is deprecated. Please use tf.compat.v1.get_default_session instead.\n",
            "\n",
            "WARNING:tensorflow:From /usr/local/lib/python3.6/dist-packages/keras/backend/tensorflow_backend.py:197: The name tf.ConfigProto is deprecated. Please use tf.compat.v1.ConfigProto instead.\n",
            "\n",
            "WARNING:tensorflow:From /usr/local/lib/python3.6/dist-packages/keras/backend/tensorflow_backend.py:207: The name tf.global_variables is deprecated. Please use tf.compat.v1.global_variables instead.\n",
            "\n",
            "WARNING:tensorflow:From /usr/local/lib/python3.6/dist-packages/keras/backend/tensorflow_backend.py:216: The name tf.is_variable_initialized is deprecated. Please use tf.compat.v1.is_variable_initialized instead.\n",
            "\n",
            "WARNING:tensorflow:From /usr/local/lib/python3.6/dist-packages/keras/backend/tensorflow_backend.py:223: The name tf.variables_initializer is deprecated. Please use tf.compat.v1.variables_initializer instead.\n",
            "\n",
            "15000/15000 [==============================] - 13s 864us/step - loss: 0.6927 - acc: 0.5038 - val_loss: 0.6922 - val_acc: 0.4949\n",
            "Epoch 2/40\n",
            "15000/15000 [==============================] - 3s 207us/step - loss: 0.6912 - acc: 0.5699 - val_loss: 0.6906 - val_acc: 0.6426\n",
            "Epoch 3/40\n",
            "15000/15000 [==============================] - 3s 209us/step - loss: 0.6895 - acc: 0.6489 - val_loss: 0.6889 - val_acc: 0.6318\n",
            "Epoch 4/40\n",
            "15000/15000 [==============================] - 3s 209us/step - loss: 0.6876 - acc: 0.6258 - val_loss: 0.6871 - val_acc: 0.6085\n",
            "Epoch 5/40\n",
            "15000/15000 [==============================] - 3s 210us/step - loss: 0.6852 - acc: 0.6435 - val_loss: 0.6848 - val_acc: 0.6275\n",
            "Epoch 6/40\n",
            "15000/15000 [==============================] - 3s 211us/step - loss: 0.6826 - acc: 0.6505 - val_loss: 0.6820 - val_acc: 0.6512\n",
            "Epoch 7/40\n",
            "15000/15000 [==============================] - 3s 211us/step - loss: 0.6796 - acc: 0.6646 - val_loss: 0.6792 - val_acc: 0.6550\n",
            "Epoch 8/40\n",
            "15000/15000 [==============================] - 3s 212us/step - loss: 0.6763 - acc: 0.6717 - val_loss: 0.6759 - val_acc: 0.6709\n",
            "Epoch 9/40\n",
            "15000/15000 [==============================] - 3s 214us/step - loss: 0.6728 - acc: 0.6742 - val_loss: 0.6726 - val_acc: 0.6665\n",
            "Epoch 10/40\n",
            "15000/15000 [==============================] - 3s 214us/step - loss: 0.6690 - acc: 0.6809 - val_loss: 0.6689 - val_acc: 0.6733\n",
            "Epoch 11/40\n",
            "15000/15000 [==============================] - 3s 215us/step - loss: 0.6650 - acc: 0.6855 - val_loss: 0.6651 - val_acc: 0.6761\n",
            "Epoch 12/40\n",
            "15000/15000 [==============================] - 3s 215us/step - loss: 0.6610 - acc: 0.6848 - val_loss: 0.6611 - val_acc: 0.6768\n",
            "Epoch 13/40\n",
            "15000/15000 [==============================] - 3s 216us/step - loss: 0.6569 - acc: 0.6889 - val_loss: 0.6572 - val_acc: 0.6808\n",
            "Epoch 14/40\n",
            "15000/15000 [==============================] - 3s 218us/step - loss: 0.6526 - acc: 0.6911 - val_loss: 0.6531 - val_acc: 0.6858\n",
            "Epoch 15/40\n",
            "15000/15000 [==============================] - 3s 218us/step - loss: 0.6481 - acc: 0.6940 - val_loss: 0.6491 - val_acc: 0.6866\n",
            "Epoch 16/40\n",
            "15000/15000 [==============================] - 3s 219us/step - loss: 0.6437 - acc: 0.6947 - val_loss: 0.6448 - val_acc: 0.6920\n",
            "Epoch 17/40\n",
            "15000/15000 [==============================] - 3s 220us/step - loss: 0.6394 - acc: 0.6984 - val_loss: 0.6407 - val_acc: 0.6934\n",
            "Epoch 18/40\n",
            "15000/15000 [==============================] - 3s 220us/step - loss: 0.6350 - acc: 0.6997 - val_loss: 0.6371 - val_acc: 0.6927\n",
            "Epoch 19/40\n",
            "15000/15000 [==============================] - 3s 222us/step - loss: 0.6307 - acc: 0.7029 - val_loss: 0.6326 - val_acc: 0.6958\n",
            "Epoch 20/40\n",
            "15000/15000 [==============================] - 3s 222us/step - loss: 0.6265 - acc: 0.7038 - val_loss: 0.6287 - val_acc: 0.7012\n",
            "Epoch 21/40\n",
            "15000/15000 [==============================] - 3s 222us/step - loss: 0.6222 - acc: 0.7061 - val_loss: 0.6247 - val_acc: 0.7007\n",
            "Epoch 22/40\n",
            "15000/15000 [==============================] - 3s 224us/step - loss: 0.6182 - acc: 0.7067 - val_loss: 0.6212 - val_acc: 0.7060\n",
            "Epoch 23/40\n",
            "15000/15000 [==============================] - 3s 224us/step - loss: 0.6141 - acc: 0.7115 - val_loss: 0.6173 - val_acc: 0.7071\n",
            "Epoch 24/40\n",
            "15000/15000 [==============================] - 3s 224us/step - loss: 0.6102 - acc: 0.7116 - val_loss: 0.6140 - val_acc: 0.7068\n",
            "Epoch 25/40\n",
            "15000/15000 [==============================] - 3s 224us/step - loss: 0.6063 - acc: 0.7119 - val_loss: 0.6097 - val_acc: 0.7102\n",
            "Epoch 26/40\n",
            "15000/15000 [==============================] - 3s 224us/step - loss: 0.6024 - acc: 0.7147 - val_loss: 0.6060 - val_acc: 0.7097\n",
            "Epoch 27/40\n",
            "15000/15000 [==============================] - 3s 224us/step - loss: 0.5986 - acc: 0.7184 - val_loss: 0.6026 - val_acc: 0.7133\n",
            "Epoch 28/40\n",
            "15000/15000 [==============================] - 3s 223us/step - loss: 0.5949 - acc: 0.7183 - val_loss: 0.5991 - val_acc: 0.7143\n",
            "Epoch 29/40\n",
            "15000/15000 [==============================] - 3s 222us/step - loss: 0.5914 - acc: 0.7217 - val_loss: 0.5960 - val_acc: 0.7183\n",
            "Epoch 30/40\n",
            "15000/15000 [==============================] - 3s 222us/step - loss: 0.5880 - acc: 0.7223 - val_loss: 0.5928 - val_acc: 0.7209\n",
            "Epoch 31/40\n",
            "15000/15000 [==============================] - 3s 222us/step - loss: 0.5847 - acc: 0.7239 - val_loss: 0.5900 - val_acc: 0.7192\n",
            "Epoch 32/40\n",
            "15000/15000 [==============================] - 3s 221us/step - loss: 0.5814 - acc: 0.7245 - val_loss: 0.5865 - val_acc: 0.7223\n",
            "Epoch 33/40\n",
            "15000/15000 [==============================] - 3s 220us/step - loss: 0.5786 - acc: 0.7263 - val_loss: 0.5833 - val_acc: 0.7213\n",
            "Epoch 34/40\n",
            "15000/15000 [==============================] - 3s 219us/step - loss: 0.5752 - acc: 0.7293 - val_loss: 0.5806 - val_acc: 0.7239\n",
            "Epoch 35/40\n",
            "15000/15000 [==============================] - 3s 219us/step - loss: 0.5723 - acc: 0.7294 - val_loss: 0.5777 - val_acc: 0.7257\n",
            "Epoch 36/40\n",
            "15000/15000 [==============================] - 3s 220us/step - loss: 0.5694 - acc: 0.7307 - val_loss: 0.5752 - val_acc: 0.7271\n",
            "Epoch 37/40\n",
            "15000/15000 [==============================] - 3s 221us/step - loss: 0.5668 - acc: 0.7316 - val_loss: 0.5728 - val_acc: 0.7280\n",
            "Epoch 38/40\n",
            "15000/15000 [==============================] - 3s 219us/step - loss: 0.5641 - acc: 0.7347 - val_loss: 0.5712 - val_acc: 0.7269\n",
            "Epoch 39/40\n",
            "15000/15000 [==============================] - 3s 219us/step - loss: 0.5616 - acc: 0.7345 - val_loss: 0.5676 - val_acc: 0.7291\n",
            "Epoch 40/40\n",
            "15000/15000 [==============================] - 3s 219us/step - loss: 0.5591 - acc: 0.7362 - val_loss: 0.5653 - val_acc: 0.7304\n"
          ],
          "name": "stdout"
        }
      ]
    },
    {
      "cell_type": "markdown",
      "metadata": {
        "colab_type": "text",
        "id": "i_9a_rybhG5J"
      },
      "source": [
        "### Evaluating the model"
      ]
    },
    {
      "cell_type": "markdown",
      "metadata": {
        "colab_type": "text",
        "id": "EYLH8kOgOo9W"
      },
      "source": [
        "To evaulate the model on test data:"
      ]
    },
    {
      "cell_type": "code",
      "metadata": {
        "colab_type": "code",
        "id": "CFMt2Q7b3taP",
        "colab": {
          "base_uri": "https://localhost:8080/",
          "height": 52
        },
        "outputId": "a7972729-de3b-4eca-e4a1-b88e1c709b38"
      },
      "source": [
        "results = model.evaluate(X_test_enc, y_test)\n",
        "print(results)"
      ],
      "execution_count": 21,
      "outputs": [
        {
          "output_type": "stream",
          "text": [
            "25000/25000 [==============================] - 4s 150us/step\n",
            "[0.5646115040397645, 0.7324]\n"
          ],
          "name": "stdout"
        }
      ]
    },
    {
      "cell_type": "markdown",
      "metadata": {
        "colab_type": "text",
        "id": "pW7IpHxMO6qp"
      },
      "source": [
        "Our first model accuracy using one-hot vectors is \n",
        "\n",
        "\n",
        "\n"
      ]
    },
    {
      "cell_type": "markdown",
      "metadata": {
        "colab_type": "text",
        "id": "OwZk_yoWhPJB"
      },
      "source": [
        "### Plotting the accuracy graph"
      ]
    },
    {
      "cell_type": "markdown",
      "metadata": {
        "colab_type": "text",
        "id": "JIDPH1J7PMzN"
      },
      "source": [
        "To plot a graph of accuracy and loss over time we can use Matplotlib:"
      ]
    },
    {
      "cell_type": "code",
      "metadata": {
        "colab_type": "code",
        "id": "LS9k2vvSAqB7",
        "colab": {
          "base_uri": "https://localhost:8080/",
          "height": 295
        },
        "outputId": "488afde5-ee7c-4079-e1fa-62cbc589c2da"
      },
      "source": [
        "import matplotlib.pyplot as plt\n",
        "\n",
        "history_dict = history.history\n",
        "\n",
        "acc = history_dict['acc']\n",
        "val_acc = history_dict['val_acc']\n",
        "loss = history_dict['loss']\n",
        "val_loss = history_dict['val_loss']\n",
        "\n",
        "epochs = range(1, len(acc) + 1)\n",
        "\n",
        "plt.plot(epochs, acc, 'bo', label='Training acc')\n",
        "plt.plot(epochs, val_acc, 'b', label='Validation acc')\n",
        "plt.title('Training and validation accuracy')\n",
        "plt.xlabel('Epochs')\n",
        "plt.ylabel('Accuracy')\n",
        "plt.legend()\n",
        "\n",
        "plt.show()"
      ],
      "execution_count": 22,
      "outputs": [
        {
          "output_type": "display_data",
          "data": {
            "image/png": "[encoded data removed]",
            "text/plain": [
              "<Figure size 432x288 with 1 Axes>"
            ]
          },
          "metadata": {
            "tags": []
          }
        }
      ]
    },
    {
      "cell_type": "markdown",
      "metadata": {
        "colab_type": "text",
        "id": "a7OwOQw4h8RX"
      },
      "source": [
        "### Neural Network model using word embeddings\n",
        "\n",
        "\n",
        "\n"
      ]
    },
    {
      "cell_type": "markdown",
      "metadata": {
        "colab_type": "text",
        "id": "l-QzOMO_P4jc"
      },
      "source": [
        "Now instead of one-hot vectors, we want to use embedding. We change our first layer in model1 to an Embedding layer. This layer takes the integer-encoded vocabulary and looks up the embedding vector for each word-index. These vectors are learned as the model trains. The vectors add a dimension to the output array. The resulting dimensions are: (batch, sequence, embedding)."
      ]
    },
    {
      "cell_type": "code",
      "metadata": {
        "colab_type": "code",
        "id": "MFrCsL-NBFVL",
        "colab": {
          "base_uri": "https://localhost:8080/",
          "height": 1000
        },
        "outputId": "ba9e3e43-c7f8-46c7-d461-490f935b60d1"
      },
      "source": [
        "VOCAB_SIZE= 10000\n",
        "\n",
        "# put the code here\n",
        "model2 = Sequential()\n",
        "model2.add(Embedding(input_dim = VOCAB_SIZE, output_dim=16))\n",
        "model2.add(GlobalAveragePooling1DMasked())\n",
        "model2.add(Dense(16, activation='relu'))\n",
        "model2.add(Dense(1, activation='sigmoid'))\n",
        "model2.summary()\n",
        "\n",
        "\n",
        "model2.compile(optimizer='adam',\n",
        "              loss='binary_crossentropy',\n",
        "              metrics=['accuracy'])\n",
        "\n",
        "X_val = np.array(X_train_enc[:10000])\n",
        "partial_X_train = np.array(X_train_enc[10000:])\n",
        "\n",
        "history2 = model2.fit(partial_X_train,\n",
        "                    partial_y_train,\n",
        "                    epochs=40,\n",
        "                    batch_size=512,\n",
        "                    validation_data=(X_val, y_val),\n",
        "                    verbose=1)"
      ],
      "execution_count": 23,
      "outputs": [
        {
          "output_type": "stream",
          "text": [
            "Model: \"sequential_2\"\n",
            "_________________________________________________________________\n",
            "Layer (type)                 Output Shape              Param #   \n",
            "=================================================================\n",
            "embedding_1 (Embedding)      (None, None, 16)          160000    \n",
            "_________________________________________________________________\n",
            "global_average_pooling1d_mas (None, 16)                0         \n",
            "_________________________________________________________________\n",
            "dense_3 (Dense)              (None, 16)                272       \n",
            "_________________________________________________________________\n",
            "dense_4 (Dense)              (None, 1)                 17        \n",
            "=================================================================\n",
            "Total params: 160,289\n",
            "Trainable params: 160,289\n",
            "Non-trainable params: 0\n",
            "_________________________________________________________________\n",
            "Train on 15000 samples, validate on 10000 samples\n",
            "Epoch 1/40\n",
            "15000/15000 [==============================] - 0s 31us/step - loss: 0.6917 - acc: 0.5543 - val_loss: 0.6892 - val_acc: 0.6629\n",
            "Epoch 2/40\n",
            "15000/15000 [==============================] - 0s 13us/step - loss: 0.6856 - acc: 0.7007 - val_loss: 0.6814 - val_acc: 0.7067\n",
            "Epoch 3/40\n",
            "15000/15000 [==============================] - 0s 11us/step - loss: 0.6742 - acc: 0.7137 - val_loss: 0.6674 - val_acc: 0.7457\n",
            "Epoch 4/40\n",
            "15000/15000 [==============================] - 0s 11us/step - loss: 0.6549 - acc: 0.7609 - val_loss: 0.6453 - val_acc: 0.7286\n",
            "Epoch 5/40\n",
            "15000/15000 [==============================] - 0s 13us/step - loss: 0.6248 - acc: 0.7909 - val_loss: 0.6114 - val_acc: 0.7673\n",
            "Epoch 6/40\n",
            "15000/15000 [==============================] - 0s 12us/step - loss: 0.5830 - acc: 0.8066 - val_loss: 0.5699 - val_acc: 0.8017\n",
            "Epoch 7/40\n",
            "15000/15000 [==============================] - 0s 12us/step - loss: 0.5353 - acc: 0.8293 - val_loss: 0.5255 - val_acc: 0.8182\n",
            "Epoch 8/40\n",
            "15000/15000 [==============================] - 0s 12us/step - loss: 0.4864 - acc: 0.8477 - val_loss: 0.4842 - val_acc: 0.8326\n",
            "Epoch 9/40\n",
            "15000/15000 [==============================] - 0s 12us/step - loss: 0.4409 - acc: 0.8587 - val_loss: 0.4451 - val_acc: 0.8427\n",
            "Epoch 10/40\n",
            "15000/15000 [==============================] - 0s 12us/step - loss: 0.4011 - acc: 0.8697 - val_loss: 0.4130 - val_acc: 0.8509\n",
            "Epoch 11/40\n",
            "15000/15000 [==============================] - 0s 11us/step - loss: 0.3669 - acc: 0.8802 - val_loss: 0.3879 - val_acc: 0.8555\n",
            "Epoch 12/40\n",
            "15000/15000 [==============================] - 0s 12us/step - loss: 0.3385 - acc: 0.8876 - val_loss: 0.3667 - val_acc: 0.8635\n",
            "Epoch 13/40\n",
            "15000/15000 [==============================] - 0s 12us/step - loss: 0.3147 - acc: 0.8945 - val_loss: 0.3503 - val_acc: 0.8671\n",
            "Epoch 14/40\n",
            "15000/15000 [==============================] - 0s 14us/step - loss: 0.2940 - acc: 0.9007 - val_loss: 0.3366 - val_acc: 0.8718\n",
            "Epoch 15/40\n",
            "15000/15000 [==============================] - 0s 13us/step - loss: 0.2762 - acc: 0.9051 - val_loss: 0.3257 - val_acc: 0.8742\n",
            "Epoch 16/40\n",
            "15000/15000 [==============================] - 0s 12us/step - loss: 0.2608 - acc: 0.9100 - val_loss: 0.3169 - val_acc: 0.8775\n",
            "Epoch 17/40\n",
            "15000/15000 [==============================] - 0s 12us/step - loss: 0.2466 - acc: 0.9151 - val_loss: 0.3098 - val_acc: 0.8758\n",
            "Epoch 18/40\n",
            "15000/15000 [==============================] - 0s 13us/step - loss: 0.2346 - acc: 0.9189 - val_loss: 0.3044 - val_acc: 0.8803\n",
            "Epoch 19/40\n",
            "15000/15000 [==============================] - 0s 11us/step - loss: 0.2232 - acc: 0.9231 - val_loss: 0.2985 - val_acc: 0.8817\n",
            "Epoch 20/40\n",
            "15000/15000 [==============================] - 0s 12us/step - loss: 0.2120 - acc: 0.9269 - val_loss: 0.2949 - val_acc: 0.8834\n",
            "Epoch 21/40\n",
            "15000/15000 [==============================] - 0s 13us/step - loss: 0.2023 - acc: 0.9311 - val_loss: 0.2914 - val_acc: 0.8835\n",
            "Epoch 22/40\n",
            "15000/15000 [==============================] - 0s 12us/step - loss: 0.1932 - acc: 0.9351 - val_loss: 0.2893 - val_acc: 0.8838\n",
            "Epoch 23/40\n",
            "15000/15000 [==============================] - 0s 12us/step - loss: 0.1846 - acc: 0.9397 - val_loss: 0.2888 - val_acc: 0.8826\n",
            "Epoch 24/40\n",
            "15000/15000 [==============================] - 0s 13us/step - loss: 0.1768 - acc: 0.9425 - val_loss: 0.2859 - val_acc: 0.8850\n",
            "Epoch 25/40\n",
            "15000/15000 [==============================] - 0s 12us/step - loss: 0.1692 - acc: 0.9459 - val_loss: 0.2857 - val_acc: 0.8850\n",
            "Epoch 26/40\n",
            "15000/15000 [==============================] - 0s 12us/step - loss: 0.1625 - acc: 0.9487 - val_loss: 0.2848 - val_acc: 0.8868\n",
            "Epoch 27/40\n",
            "15000/15000 [==============================] - 0s 12us/step - loss: 0.1559 - acc: 0.9508 - val_loss: 0.2843 - val_acc: 0.8865\n",
            "Epoch 28/40\n",
            "15000/15000 [==============================] - 0s 13us/step - loss: 0.1494 - acc: 0.9544 - val_loss: 0.2847 - val_acc: 0.8856\n",
            "Epoch 29/40\n",
            "15000/15000 [==============================] - 0s 13us/step - loss: 0.1437 - acc: 0.9558 - val_loss: 0.2882 - val_acc: 0.8832\n",
            "Epoch 30/40\n",
            "15000/15000 [==============================] - 0s 14us/step - loss: 0.1380 - acc: 0.9585 - val_loss: 0.2866 - val_acc: 0.8862\n",
            "Epoch 31/40\n",
            "15000/15000 [==============================] - 0s 13us/step - loss: 0.1325 - acc: 0.9611 - val_loss: 0.2887 - val_acc: 0.8865\n",
            "Epoch 32/40\n",
            "15000/15000 [==============================] - 0s 12us/step - loss: 0.1276 - acc: 0.9623 - val_loss: 0.2901 - val_acc: 0.8855\n",
            "Epoch 33/40\n",
            "15000/15000 [==============================] - 0s 12us/step - loss: 0.1227 - acc: 0.9649 - val_loss: 0.2913 - val_acc: 0.8857\n",
            "Epoch 34/40\n",
            "15000/15000 [==============================] - 0s 12us/step - loss: 0.1178 - acc: 0.9667 - val_loss: 0.2932 - val_acc: 0.8852\n",
            "Epoch 35/40\n",
            "15000/15000 [==============================] - 0s 11us/step - loss: 0.1134 - acc: 0.9683 - val_loss: 0.2962 - val_acc: 0.8851\n",
            "Epoch 36/40\n",
            "15000/15000 [==============================] - 0s 14us/step - loss: 0.1091 - acc: 0.9700 - val_loss: 0.2977 - val_acc: 0.8850\n",
            "Epoch 37/40\n",
            "15000/15000 [==============================] - 0s 12us/step - loss: 0.1051 - acc: 0.9713 - val_loss: 0.3003 - val_acc: 0.8851\n",
            "Epoch 38/40\n",
            "15000/15000 [==============================] - 0s 13us/step - loss: 0.1010 - acc: 0.9732 - val_loss: 0.3035 - val_acc: 0.8844\n",
            "Epoch 39/40\n",
            "15000/15000 [==============================] - 0s 14us/step - loss: 0.0974 - acc: 0.9745 - val_loss: 0.3066 - val_acc: 0.8836\n",
            "Epoch 40/40\n",
            "15000/15000 [==============================] - 0s 11us/step - loss: 0.0936 - acc: 0.9760 - val_loss: 0.3111 - val_acc: 0.8819\n"
          ],
          "name": "stdout"
        }
      ]
    },
    {
      "cell_type": "code",
      "metadata": {
        "colab_type": "code",
        "id": "I4zIPJDcTPq3",
        "colab": {
          "base_uri": "https://localhost:8080/",
          "height": 34
        },
        "outputId": "4290490d-80a0-4c69-8754-cfb43450fb27"
      },
      "source": [
        "results = model2.evaluate(X_test_enc, y_test)"
      ],
      "execution_count": 24,
      "outputs": [
        {
          "output_type": "stream",
          "text": [
            "25000/25000 [==============================] - 1s 38us/step\n"
          ],
          "name": "stdout"
        }
      ]
    },
    {
      "cell_type": "code",
      "metadata": {
        "colab_type": "code",
        "id": "waS96edDTRyL",
        "colab": {
          "base_uri": "https://localhost:8080/",
          "height": 34
        },
        "outputId": "9943b4cd-6e74-48cc-b276-672671086be5"
      },
      "source": [
        "print (results)"
      ],
      "execution_count": 25,
      "outputs": [
        {
          "output_type": "stream",
          "text": [
            "[0.33114999678611756, 0.8726]\n"
          ],
          "name": "stdout"
        }
      ]
    },
    {
      "cell_type": "code",
      "metadata": {
        "colab_type": "code",
        "id": "XB7aveVzTC5a",
        "colab": {
          "base_uri": "https://localhost:8080/",
          "height": 295
        },
        "outputId": "28ec022d-8b9e-48f8-9c21-2dfb0408ed1e"
      },
      "source": [
        "import matplotlib.pyplot as plt\n",
        "\n",
        "history_dict = history2.history\n",
        "\n",
        "acc = history_dict['acc']\n",
        "val_acc = history_dict['val_acc']\n",
        "loss = history_dict['loss']\n",
        "val_loss = history_dict['val_loss']\n",
        "\n",
        "epochs = range(1, len(acc) + 1)\n",
        "\n",
        "plt.plot(epochs, acc, 'bo', label='Training acc')\n",
        "plt.plot(epochs, val_acc, 'b', label='Validation acc')\n",
        "plt.title('Training and validation accuracy')\n",
        "plt.xlabel('Epochs')\n",
        "plt.ylabel('Accuracy')\n",
        "plt.legend()\n",
        "\n",
        "plt.show()"
      ],
      "execution_count": 26,
      "outputs": [
        {
          "output_type": "display_data",
          "data": {
            "image/png": "[encoded data removed]",
            "text/plain": [
              "<Figure size 432x288 with 1 Axes>"
            ]
          },
          "metadata": {
            "tags": []
          }
        }
      ]
    },
    {
      "cell_type": "markdown",
      "metadata": {
        "colab_type": "text",
        "id": "7FBpTc_rXGvQ"
      },
      "source": [
        "The accuracy of model2 is 87%. Using Embedding layer instead of one-hot layer improved the performance."
      ]
    },
    {
      "cell_type": "markdown",
      "metadata": {
        "colab_type": "text",
        "id": "--020hfG6rN2"
      },
      "source": [
        "### Using pre-trained word embeddings"
      ]
    },
    {
      "cell_type": "markdown",
      "metadata": {
        "colab_type": "text",
        "id": "J4gBeOyi4gkM"
      },
      "source": [
        "The Embedding layer can be used to load a pre-trained word embedding model. We are going to use GloVe embeddings, which you can read about it here (https://nlp.stanford.edu/projects/glove/). GloVe stands for \"Global Vectors for Word Representation\". It's a somewhat popular embedding technique based on factorizing a matrix of word co-occurence statistics. You can download GloVe and we can seed the Keras Embedding layer with weights from the pre-trained embedding for the words in your dataset.\n",
        "First, we need to read GloVe and map words to GloVe:\n"
      ]
    },
    {
      "cell_type": "code",
      "metadata": {
        "colab_type": "code",
        "id": "f_PypdqG9Iis",
        "colab": {}
      },
      "source": [
        "def readGloveFile(gloveFile):\n",
        "    with open(gloveFile, 'r') as f:\n",
        "        wordToGlove = {}  \n",
        "        wordToIndex = {}  \n",
        "        indexToWord = {}  \n",
        "\n",
        "        for line in f:\n",
        "            record = line.strip().split()\n",
        "            token = record[0] \n",
        "            wordToGlove[token] = np.array(record[1:], dtype=np.float64) \n",
        "            \n",
        "        tokens = sorted(wordToGlove.keys())\n",
        "        for idx, tok in enumerate(tokens):\n",
        "            kerasIdx = idx + 1  \n",
        "            wordToIndex[tok] = kerasIdx \n",
        "            indexToWord[kerasIdx] = tok \n",
        "\n",
        "    return wordToIndex, indexToWord, wordToGlove"
      ],
      "execution_count": 0,
      "outputs": []
    },
    {
      "cell_type": "markdown",
      "metadata": {
        "colab_type": "text",
        "id": "ZcIZ3dq59bCh"
      },
      "source": [
        "Now, we create our pre-trained Embedding layer:"
      ]
    },
    {
      "cell_type": "code",
      "metadata": {
        "colab_type": "code",
        "id": "gembn7VM3ex8",
        "colab": {}
      },
      "source": [
        "def createPretrainedEmbeddingLayer(wordToGlove, wordToIndex, isTrainable):\n",
        "    vocabLen = len(wordToIndex) + 1  \n",
        "    embDim = next(iter(wordToGlove.values())).shape[0]  \n",
        "   \n",
        "    embeddingMatrix = np.zeros((vocabLen, embDim))  \n",
        "    for word, index in wordToIndex.items():\n",
        "        embeddingMatrix[index, :] = wordToGlove[word] \n",
        "\n",
        "    embeddingLayer = Embedding(vocabLen, embDim, embeddings_initializer=Constant(embeddingMatrix), trainable=isTrainable)\n",
        "    return embeddingLayer"
      ],
      "execution_count": 0,
      "outputs": []
    },
    {
      "cell_type": "markdown",
      "metadata": {
        "colab_type": "text",
        "id": "HGxciLK4-xOr"
      },
      "source": [
        "We freeze the weights. To create the model:"
      ]
    },
    {
      "cell_type": "code",
      "metadata": {
        "colab_type": "code",
        "id": "PZCPUM0W_Drc",
        "colab": {
          "base_uri": "https://localhost:8080/",
          "height": 52
        },
        "outputId": "c3f8a74a-f288-46ee-fc81-b848666468e5"
      },
      "source": [
        "# put the code here\n",
        "# Glove file: https://nlp.stanford.edu/projects/glove/\n",
        "chakin.download(number=14, save_dir='./') # select fastText(en)\n",
        "import os\n",
        "os.system(\"unzip glove.6B.zip\")"
      ],
      "execution_count": 29,
      "outputs": [
        {
          "output_type": "stream",
          "text": [
            "Test: 100% ||                                      | Time:  0:06:30   2.1 MiB/s\n"
          ],
          "name": "stderr"
        },
        {
          "output_type": "execute_result",
          "data": {
            "text/plain": [
              "0"
            ]
          },
          "metadata": {
            "tags": []
          },
          "execution_count": 29
        }
      ]
    },
    {
      "cell_type": "code",
      "metadata": {
        "id": "Uc86l5qNaSjx",
        "colab_type": "code",
        "colab": {}
      },
      "source": [
        "wordToIndex, indexToWord, wordToGlove = readGloveFile(gloveFile= \"./glove.6B.300d.txt\")"
      ],
      "execution_count": 0,
      "outputs": []
    },
    {
      "cell_type": "markdown",
      "metadata": {
        "colab_type": "text",
        "id": "M-bZ5SCHiIMl"
      },
      "source": [
        "### Adding another hidden layer to the network"
      ]
    },
    {
      "cell_type": "markdown",
      "metadata": {
        "colab_type": "text",
        "id": "ZbZ6UBDfbjea"
      },
      "source": [
        "In model3, we only add another dense layer to see if that improves the performance."
      ]
    },
    {
      "cell_type": "code",
      "metadata": {
        "colab_type": "code",
        "id": "Vw0le1YjDdCa",
        "colab": {
          "base_uri": "https://localhost:8080/",
          "height": 749
        },
        "outputId": "616d934a-7570-44cb-fa45-320631d2037d"
      },
      "source": [
        "# put your code here\n",
        "from keras.initializers import Constant\n",
        "model3 = Sequential()\n",
        "\n",
        "# Adding GLoVE embedding layer\n",
        "model3.add(createPretrainedEmbeddingLayer(wordToGlove, wordToIndex, isTrainable=True))\n",
        "model3.add(GlobalAveragePooling1DMasked())\n",
        "model3.add(Dense(16, activation='relu'))\n",
        "model3.add(Dense(1, activation='sigmoid'))\n",
        "model3.summary()\n",
        "\n",
        "model3.compile(optimizer='adam',\n",
        "              loss='binary_crossentropy',\n",
        "              metrics=['accuracy'])\n",
        "\n",
        "X_val = np.array(X_train_enc[:10000])\n",
        "partial_X_train = np.array(X_train_enc[10000:])\n",
        "\n",
        "history3 = model3.fit(partial_X_train,\n",
        "                    partial_y_train,\n",
        "                    epochs=10,\n",
        "                    batch_size=64,\n",
        "                    validation_data=(X_val, y_val),\n",
        "                    verbose=1)\n",
        "\n",
        "results = model3.evaluate(X_test_enc, y_test)\n",
        "print(results)"
      ],
      "execution_count": 31,
      "outputs": [
        {
          "output_type": "stream",
          "text": [
            "Model: \"sequential_3\"\n",
            "_________________________________________________________________\n",
            "Layer (type)                 Output Shape              Param #   \n",
            "=================================================================\n",
            "embedding_2 (Embedding)      (None, None, 300)         120000300 \n",
            "_________________________________________________________________\n",
            "global_average_pooling1d_mas (None, 300)               0         \n",
            "_________________________________________________________________\n",
            "dense_5 (Dense)              (None, 16)                4816      \n",
            "_________________________________________________________________\n",
            "dense_6 (Dense)              (None, 1)                 17        \n",
            "=================================================================\n",
            "Total params: 120,005,133\n",
            "Trainable params: 120,005,133\n",
            "Non-trainable params: 0\n",
            "_________________________________________________________________\n"
          ],
          "name": "stdout"
        },
        {
          "output_type": "stream",
          "text": [
            "/usr/local/lib/python3.6/dist-packages/tensorflow_core/python/framework/indexed_slices.py:421: UserWarning: Converting sparse IndexedSlices to a dense Tensor with 120000300 elements. This may consume a large amount of memory.\n",
            "  num_elements)\n"
          ],
          "name": "stderr"
        },
        {
          "output_type": "stream",
          "text": [
            "Train on 15000 samples, validate on 10000 samples\n",
            "Epoch 1/10\n",
            "15000/15000 [==============================] - 26s 2ms/step - loss: 0.6128 - acc: 0.6830 - val_loss: 0.4693 - val_acc: 0.8205\n",
            "Epoch 2/10\n",
            "15000/15000 [==============================] - 21s 1ms/step - loss: 0.3532 - acc: 0.8655 - val_loss: 0.3162 - val_acc: 0.8754\n",
            "Epoch 3/10\n",
            "15000/15000 [==============================] - 21s 1ms/step - loss: 0.2452 - acc: 0.9051 - val_loss: 0.2919 - val_acc: 0.8782\n",
            "Epoch 4/10\n",
            "15000/15000 [==============================] - 21s 1ms/step - loss: 0.1948 - acc: 0.9277 - val_loss: 0.2872 - val_acc: 0.8826\n",
            "Epoch 5/10\n",
            "15000/15000 [==============================] - 21s 1ms/step - loss: 0.1576 - acc: 0.9461 - val_loss: 0.2931 - val_acc: 0.8860\n",
            "Epoch 6/10\n",
            "15000/15000 [==============================] - 21s 1ms/step - loss: 0.1280 - acc: 0.9581 - val_loss: 0.3067 - val_acc: 0.8840\n",
            "Epoch 7/10\n",
            "15000/15000 [==============================] - 21s 1ms/step - loss: 0.1055 - acc: 0.9689 - val_loss: 0.3538 - val_acc: 0.8716\n",
            "Epoch 8/10\n",
            "15000/15000 [==============================] - 21s 1ms/step - loss: 0.0854 - acc: 0.9754 - val_loss: 0.3550 - val_acc: 0.8788\n",
            "Epoch 9/10\n",
            "15000/15000 [==============================] - 21s 1ms/step - loss: 0.0704 - acc: 0.9807 - val_loss: 0.3823 - val_acc: 0.8742\n",
            "Epoch 10/10\n",
            "15000/15000 [==============================] - 21s 1ms/step - loss: 0.0585 - acc: 0.9861 - val_loss: 0.4168 - val_acc: 0.8722\n",
            "25000/25000 [==============================] - 1s 38us/step\n",
            "[0.4411797829627991, 0.86092]\n"
          ],
          "name": "stdout"
        }
      ]
    },
    {
      "cell_type": "code",
      "metadata": {
        "colab_type": "code",
        "id": "QtsdVeW7UgCu",
        "colab": {
          "base_uri": "https://localhost:8080/",
          "height": 295
        },
        "outputId": "36b4ec97-2b49-4b2e-e731-8d20f935369d"
      },
      "source": [
        "import matplotlib.pyplot as plt\n",
        "\n",
        "history_dict = history3.history\n",
        "\n",
        "acc = history_dict['acc']\n",
        "val_acc = history_dict['val_acc']\n",
        "loss = history_dict['loss']\n",
        "val_loss = history_dict['val_loss']\n",
        "\n",
        "epochs = range(1, len(acc) + 1)\n",
        "\n",
        "plt.plot(epochs, acc, 'bo', label='Training acc')\n",
        "plt.plot(epochs, val_acc, 'b', label='Validation acc')\n",
        "plt.title('Training and validation accuracy')\n",
        "plt.xlabel('Epochs')\n",
        "plt.ylabel('Accuracy')\n",
        "plt.legend()\n",
        "\n",
        "plt.show()"
      ],
      "execution_count": 32,
      "outputs": [
        {
          "output_type": "display_data",
          "data": {
            "image/png": "[encoded data removed]",
            "text/plain": [
              "<Figure size 432x288 with 1 Axes>"
            ]
          },
          "metadata": {
            "tags": []
          }
        }
      ]
    },
    {
      "cell_type": "markdown",
      "metadata": {
        "colab_type": "text",
        "id": "Kx--Ytk3ZbLo"
      },
      "source": [
        "The accuracy of model3 with an additional layer is 85%. Adding more layers can help you to extract more features. But we can do that upto a certain extent. After some point, instead of extracting features, we tend to overfit the data. Overfitting can lead to errors in some or the other form like false positives. It is not easy to choose the number of units in a hidden layer or the number of hidden layers in a neural network. For many applications, one hidden layer is enough. As a general rule, the number of units in that hidden layer is between the number of inputs and the number of outputs.\n",
        " The best way to decide on the number of units and hidden layers is to try various parameters. Train several neural networks with different numbers of hidden layers and neurons, and monitor the performance of them. You will have to experiment using a series of different architectures. \n",
        "\n",
        "\n",
        "\n"
      ]
    },
    {
      "cell_type": "markdown",
      "metadata": {
        "colab_type": "text",
        "id": "gn2GSV4ioyO2"
      },
      "source": [
        "\n",
        "\n",
        "---\n",
        "\n"
      ]
    },
    {
      "cell_type": "code",
      "metadata": {
        "colab_type": "code",
        "id": "XYC6DykEox2w",
        "colab": {
          "base_uri": "https://localhost:8080/",
          "height": 749
        },
        "outputId": "368210f1-d28e-4ff9-97a0-2076411b3eae"
      },
      "source": [
        "# Adding one more hidden layer.\n",
        "\n",
        "model4 = Sequential()\n",
        "\n",
        "model4.add(createPretrainedEmbeddingLayer(wordToGlove, wordToIndex, isTrainable=True))\n",
        "\n",
        "model4.add(GlobalAveragePooling1DMasked())\n",
        "model4.add(Dense(16, activation='relu'))\n",
        "model4.add(Dense(16, activation='relu'))\n",
        "model4.add(Dense(1, activation='sigmoid'))\n",
        "model4.summary()\n",
        "\n",
        "model4.compile(optimizer='adam',\n",
        "              loss='binary_crossentropy',\n",
        "              metrics= ['accuracy'])\n",
        "  \n",
        "X_val = np.array(X_train_enc[:10000])\n",
        "partial_X_train = np.array(X_train_enc[10000:])\n",
        "\n",
        "history4 = model4.fit(partial_X_train, \n",
        "                     partial_y_train,\n",
        "                     epochs=10,\n",
        "                     batch_size=64,\n",
        "                     validation_data=(X_val,y_val),\n",
        "                     verbose=1)"
      ],
      "execution_count": 33,
      "outputs": [
        {
          "output_type": "stream",
          "text": [
            "Model: \"sequential_4\"\n",
            "_________________________________________________________________\n",
            "Layer (type)                 Output Shape              Param #   \n",
            "=================================================================\n",
            "embedding_3 (Embedding)      (None, None, 300)         120000300 \n",
            "_________________________________________________________________\n",
            "global_average_pooling1d_mas (None, 300)               0         \n",
            "_________________________________________________________________\n",
            "dense_7 (Dense)              (None, 16)                4816      \n",
            "_________________________________________________________________\n",
            "dense_8 (Dense)              (None, 16)                272       \n",
            "_________________________________________________________________\n",
            "dense_9 (Dense)              (None, 1)                 17        \n",
            "=================================================================\n",
            "Total params: 120,005,405\n",
            "Trainable params: 120,005,405\n",
            "Non-trainable params: 0\n",
            "_________________________________________________________________\n"
          ],
          "name": "stdout"
        },
        {
          "output_type": "stream",
          "text": [
            "/usr/local/lib/python3.6/dist-packages/tensorflow_core/python/framework/indexed_slices.py:421: UserWarning: Converting sparse IndexedSlices to a dense Tensor with 120000300 elements. This may consume a large amount of memory.\n",
            "  num_elements)\n"
          ],
          "name": "stderr"
        },
        {
          "output_type": "stream",
          "text": [
            "Train on 15000 samples, validate on 10000 samples\n",
            "Epoch 1/10\n",
            "15000/15000 [==============================] - 26s 2ms/step - loss: 0.6131 - acc: 0.6773 - val_loss: 0.4278 - val_acc: 0.8211\n",
            "Epoch 2/10\n",
            "15000/15000 [==============================] - 21s 1ms/step - loss: 0.3167 - acc: 0.8732 - val_loss: 0.3022 - val_acc: 0.8761\n",
            "Epoch 3/10\n",
            "15000/15000 [==============================] - 21s 1ms/step - loss: 0.2193 - acc: 0.9166 - val_loss: 0.2873 - val_acc: 0.8845\n",
            "Epoch 4/10\n",
            "15000/15000 [==============================] - 21s 1ms/step - loss: 0.1637 - acc: 0.9425 - val_loss: 0.2998 - val_acc: 0.8847\n",
            "Epoch 5/10\n",
            "15000/15000 [==============================] - 21s 1ms/step - loss: 0.1261 - acc: 0.9591 - val_loss: 0.3254 - val_acc: 0.8789\n",
            "Epoch 6/10\n",
            "15000/15000 [==============================] - 21s 1ms/step - loss: 0.0971 - acc: 0.9698 - val_loss: 0.3611 - val_acc: 0.8765\n",
            "Epoch 7/10\n",
            "15000/15000 [==============================] - 21s 1ms/step - loss: 0.0753 - acc: 0.9775 - val_loss: 0.4014 - val_acc: 0.8709\n",
            "Epoch 8/10\n",
            "15000/15000 [==============================] - 21s 1ms/step - loss: 0.0564 - acc: 0.9845 - val_loss: 0.4501 - val_acc: 0.8692\n",
            "Epoch 9/10\n",
            "15000/15000 [==============================] - 21s 1ms/step - loss: 0.0386 - acc: 0.9909 - val_loss: 0.5086 - val_acc: 0.8689\n",
            "Epoch 10/10\n",
            "15000/15000 [==============================] - 21s 1ms/step - loss: 0.0305 - acc: 0.9935 - val_loss: 0.5576 - val_acc: 0.8628\n"
          ],
          "name": "stdout"
        }
      ]
    },
    {
      "cell_type": "code",
      "metadata": {
        "id": "eTsRaPUPawoI",
        "colab_type": "code",
        "colab": {
          "base_uri": "https://localhost:8080/",
          "height": 52
        },
        "outputId": "61687c59-218c-40b3-c921-230cc7c12391"
      },
      "source": [
        "results4 = model4.evaluate(X_test_enc, y_test)\n",
        "print(results4)"
      ],
      "execution_count": 34,
      "outputs": [
        {
          "output_type": "stream",
          "text": [
            "25000/25000 [==============================] - 1s 40us/step\n",
            "[0.5976301582312584, 0.8516]\n"
          ],
          "name": "stdout"
        }
      ]
    },
    {
      "cell_type": "code",
      "metadata": {
        "id": "jiGuSpcfa277",
        "colab_type": "code",
        "colab": {
          "base_uri": "https://localhost:8080/",
          "height": 295
        },
        "outputId": "2fe0d649-fab3-4d47-b899-d0bf3ac4536a"
      },
      "source": [
        "history_dict = history4.history\n",
        "\n",
        "acc = history_dict['acc']\n",
        "val_acc = history_dict['val_acc']\n",
        "loss = history_dict['loss']\n",
        "val_loss = history_dict['val_loss']\n",
        "\n",
        "epochs = range(1, len(acc) + 1)\n",
        "\n",
        "plt.plot(epochs, acc, 'bo', label='Training acc')\n",
        "plt.plot(epochs, val_acc, 'b', label='Validation acc')\n",
        "plt.title('Training and validation accuracy')\n",
        "plt.xlabel('Epochs')\n",
        "plt.ylabel('Accuracy')\n",
        "plt.legend()\n",
        "\n",
        "plt.show()"
      ],
      "execution_count": 35,
      "outputs": [
        {
          "output_type": "display_data",
          "data": {
            "image/png": "[encoded data removed]",
            "text/plain": [
              "<Figure size 432x288 with 1 Axes>"
            ]
          },
          "metadata": {
            "tags": []
          }
        }
      ]
    },
    {
      "cell_type": "markdown",
      "metadata": {
        "colab_type": "text",
        "id": "GsCJ01StlgCx"
      },
      "source": [
        "This tutorial is substantially based on this document:\n",
        "https://www.tensorflow.org/tutorials/keras/basic_text_classification\n",
        "\n",
        "To read more about Sequential APIs you can go to: https://keras.io/getting-started/sequential-model-guide/\n",
        "\n",
        "The one-hot word vector layer is taken from:\n",
        "https://fdalvi.github.io/blog/2018-04-07-keras-sequential-onehot/\n"
      ]
    },
    {
      "cell_type": "code",
      "metadata": {
        "id": "G59BP927ZtEp",
        "colab_type": "code",
        "colab": {
          "base_uri": "https://localhost:8080/",
          "height": 749
        },
        "outputId": "021fb006-a380-4818-f441-ef27969feba2"
      },
      "source": [
        "# Adding one more hidden layer.\n",
        "\n",
        "model4 = Sequential()\n",
        "\n",
        "model4.add(createPretrainedEmbeddingLayer(wordToGlove, wordToIndex, isTrainable=True))\n",
        "\n",
        "model4.add(GlobalAveragePooling1DMasked())\n",
        "model4.add(Dense(300, activation='relu'))\n",
        "model4.add(Dense(16, activation='relu'))\n",
        "model4.add(Dense(1, activation='sigmoid'))\n",
        "model4.summary()\n",
        "\n",
        "model4.compile(optimizer='adam',\n",
        "              loss='binary_crossentropy',\n",
        "              metrics= ['accuracy'])\n",
        "  \n",
        "X_val = np.array(X_train_enc[:10000])\n",
        "partial_X_train = np.array(X_train_enc[10000:])\n",
        "\n",
        "history4 = model4.fit(partial_X_train, \n",
        "                     partial_y_train,\n",
        "                     epochs=10,\n",
        "                     batch_size=64,\n",
        "                     validation_data=(X_val,y_val),\n",
        "                     verbose=1)"
      ],
      "execution_count": 36,
      "outputs": [
        {
          "output_type": "stream",
          "text": [
            "Model: \"sequential_5\"\n",
            "_________________________________________________________________\n",
            "Layer (type)                 Output Shape              Param #   \n",
            "=================================================================\n",
            "embedding_4 (Embedding)      (None, None, 300)         120000300 \n",
            "_________________________________________________________________\n",
            "global_average_pooling1d_mas (None, 300)               0         \n",
            "_________________________________________________________________\n",
            "dense_10 (Dense)             (None, 300)               90300     \n",
            "_________________________________________________________________\n",
            "dense_11 (Dense)             (None, 16)                4816      \n",
            "_________________________________________________________________\n",
            "dense_12 (Dense)             (None, 1)                 17        \n",
            "=================================================================\n",
            "Total params: 120,095,433\n",
            "Trainable params: 120,095,433\n",
            "Non-trainable params: 0\n",
            "_________________________________________________________________\n"
          ],
          "name": "stdout"
        },
        {
          "output_type": "stream",
          "text": [
            "/usr/local/lib/python3.6/dist-packages/tensorflow_core/python/framework/indexed_slices.py:421: UserWarning: Converting sparse IndexedSlices to a dense Tensor with 120000300 elements. This may consume a large amount of memory.\n",
            "  num_elements)\n"
          ],
          "name": "stderr"
        },
        {
          "output_type": "stream",
          "text": [
            "Train on 15000 samples, validate on 10000 samples\n",
            "Epoch 1/10\n",
            "15000/15000 [==============================] - 26s 2ms/step - loss: 0.5443 - acc: 0.7157 - val_loss: 0.4285 - val_acc: 0.8070\n",
            "Epoch 2/10\n",
            "15000/15000 [==============================] - 21s 1ms/step - loss: 0.2860 - acc: 0.8843 - val_loss: 0.3028 - val_acc: 0.8774\n",
            "Epoch 3/10\n",
            "15000/15000 [==============================] - 21s 1ms/step - loss: 0.1951 - acc: 0.9245 - val_loss: 0.3328 - val_acc: 0.8652\n",
            "Epoch 4/10\n",
            "15000/15000 [==============================] - 21s 1ms/step - loss: 0.1462 - acc: 0.9469 - val_loss: 0.3338 - val_acc: 0.8773\n",
            "Epoch 5/10\n",
            "15000/15000 [==============================] - 21s 1ms/step - loss: 0.1089 - acc: 0.9616 - val_loss: 0.4008 - val_acc: 0.8677\n",
            "Epoch 6/10\n",
            "15000/15000 [==============================] - 21s 1ms/step - loss: 0.0778 - acc: 0.9737 - val_loss: 0.4568 - val_acc: 0.8656\n",
            "Epoch 7/10\n",
            "15000/15000 [==============================] - 21s 1ms/step - loss: 0.0535 - acc: 0.9847 - val_loss: 0.5250 - val_acc: 0.8635\n",
            "Epoch 8/10\n",
            "15000/15000 [==============================] - 21s 1ms/step - loss: 0.0372 - acc: 0.9893 - val_loss: 0.6021 - val_acc: 0.8605\n",
            "Epoch 9/10\n",
            "15000/15000 [==============================] - 21s 1ms/step - loss: 0.0289 - acc: 0.9917 - val_loss: 0.6755 - val_acc: 0.8613\n",
            "Epoch 10/10\n",
            "15000/15000 [==============================] - 21s 1ms/step - loss: 0.0219 - acc: 0.9934 - val_loss: 0.7677 - val_acc: 0.8564\n"
          ],
          "name": "stdout"
        }
      ]
    },
    {
      "cell_type": "code",
      "metadata": {
        "id": "pTq8-2V_jByw",
        "colab_type": "code",
        "colab": {
          "base_uri": "https://localhost:8080/",
          "height": 295
        },
        "outputId": "292a17ba-c677-4222-b5f2-0b0f159b8710"
      },
      "source": [
        "history_dict = history4.history\n",
        "\n",
        "acc = history_dict['acc']\n",
        "val_acc = history_dict['val_acc']\n",
        "loss = history_dict['loss']\n",
        "val_loss = history_dict['val_loss']\n",
        "\n",
        "epochs = range(1, len(acc) + 1)\n",
        "\n",
        "plt.plot(epochs, acc, 'bo', label='Training acc')\n",
        "plt.plot(epochs, val_acc, 'b', label='Validation acc')\n",
        "plt.title('Training and validation accuracy')\n",
        "plt.xlabel('Epochs')\n",
        "plt.ylabel('Accuracy')\n",
        "plt.legend()\n",
        "\n",
        "plt.show()"
      ],
      "execution_count": 37,
      "outputs": [
        {
          "output_type": "display_data",
          "data": {
            "image/png": "[encoded data removed]",
            "text/plain": [
              "<Figure size 432x288 with 1 Axes>"
            ]
          },
          "metadata": {
            "tags": []
          }
        }
      ]
    }
  ]
}